{
 "cells": [
  {
   "cell_type": "markdown",
   "id": "55TxrYSnbBFI",
   "metadata": {
    "id": "55TxrYSnbBFI"
   },
   "source": [
    "# Scraping vs Using an API\n",
    "\n",
    "This is a demo of two ways of getting Trade Card images from the Harvard Digital Collections. One, by scraping, and the other by using a purpose-built API called LibraryCloud."
   ]
  },
  {
   "cell_type": "markdown",
   "id": "4ISYFkNqbMZY",
   "metadata": {
    "id": "4ISYFkNqbMZY",
    "jp-MarkdownHeadingCollapsed": true
   },
   "source": [
    "## Scraping HOLLIS Images (Selenium needed for Javascript)\n",
    "\n",
    "This is relatively involved, since to get the image URL, we need to emulate a human browsing and run javascript on the browser locally to view the HOLLIS Images pages."
   ]
  },
  {
   "cell_type": "code",
   "execution_count": 1,
   "id": "71901304",
   "metadata": {
    "id": "71901304"
   },
   "outputs": [],
   "source": [
    "import json\n",
    "import time\n",
    "\n",
    "import requests\n",
    "from PIL import Image\n",
    "from selenium import webdriver\n",
    "from selenium.common.exceptions import ElementClickInterceptedException\n",
    "from selenium.webdriver.common.by import By\n",
    "from selenium.webdriver.common.keys import Keys\n",
    "from selenium.webdriver.support import expected_conditions as EC\n",
    "from selenium.webdriver.support.ui import WebDriverWait\n"
   ]
  },
  {
   "cell_type": "code",
   "execution_count": null,
   "id": "154aec72",
   "metadata": {
    "id": "154aec72"
   },
   "outputs": [],
   "source": [
    "#login_url = \"http://pdharvard.egreenapple.com.ezp-prod1.hul.harvard.edu/index2.html\"\n",
    "login_url = \"https://www.pin1.harvard.edu/cas/login?service=https%3A%2F%2Fhollis.harvard.edu%3A443%2Fprimo_library%2Flibweb%2FcasRedirect%3FauthenticationProfile%3DHarvard+Primo%26targetURL%3Dhttps%253A%252F%252Fhollis.harvard.edu%252Fprimo-explore%252Fsearch%253Fvid%253DHVD2%2526sortby%253Drank%2526lang%253Den_US%2526from-new-ui%253D1%2526authenticationProfile%253DHarvard%252BPrimo%26institution%3D01HVD\"\n",
    "base_url = 'https://images.hollis.harvard.edu/primo-explore/search?query=any,contains,trade%20cards&tab=default_tab&search_scope=default_scope&vid=HVD_IMAGES&lang=en_US&offset=0#searchResultList'\n",
    "driver = webdriver.Chrome(executable_path=r'../../../Scripts/chromedriver')\n"
   ]
  },
  {
   "cell_type": "markdown",
   "id": "bbc073e4",
   "metadata": {
    "id": "bbc073e4"
   },
   "source": [
    "### Run the next two cells only if working off-campus"
   ]
  },
  {
   "cell_type": "code",
   "execution_count": null,
   "id": "950b5952",
   "metadata": {
    "id": "950b5952"
   },
   "outputs": [],
   "source": [
    "# off-campus setup\n",
    "driver.get(login_url)"
   ]
  },
  {
   "cell_type": "markdown",
   "id": "6f8624ae",
   "metadata": {
    "id": "6f8624ae"
   },
   "source": [
    "### Log in before running next cell"
   ]
  },
  {
   "cell_type": "code",
   "execution_count": null,
   "id": "9120cea5",
   "metadata": {
    "id": "9120cea5"
   },
   "outputs": [],
   "source": [
    "# Start a session in requests\n",
    "s = requests.session()\n",
    "\n",
    "# Set cookies in requests session from selenium session\n",
    "for cookie in driver.get_cookies():\n",
    "    c = {cookie['name']: cookie['value']}\n",
    "    s.cookies.update(c)\n",
    "\n",
    "# Show the new session cookies\n",
    "# s.cookies.get_dict()\n",
    "\n",
    "# Set session headers to look like Selenium session and add the referer url\n",
    "user_agent = driver.execute_script('return navigator.userAgent;')\n",
    "headers = {'User-Agent': user_agent, 'Referer': login_url}\n",
    "s.headers.update(headers)\n",
    "\n",
    "# Show the new headers\n",
    "# s.headers\n"
   ]
  },
  {
   "cell_type": "code",
   "execution_count": null,
   "id": "8b54be69",
   "metadata": {
    "id": "8b54be69"
   },
   "outputs": [],
   "source": [
    "# driver.switch_to.window(original_window)\n",
    "driver.get(base_url)"
   ]
  },
  {
   "cell_type": "code",
   "execution_count": null,
   "id": "d97b5dc5",
   "metadata": {
    "id": "d97b5dc5"
   },
   "outputs": [],
   "source": [
    "# set starting point | e.g. if process is interrupted for some reason\n",
    "starting_page = 1\n",
    "starting_image = 0 # 0-based count\n",
    "\n",
    "links = []\n",
    "problems = []\n",
    "metadata = []\n",
    "page_no = starting_page\n",
    "original_window = driver.current_window_handle\n",
    "driver.implicitly_wait(10)\n",
    "wait = WebDriverWait(driver, 30)\n",
    "\n",
    "# need to go to starting page if it's not the first\n",
    "if starting_page > 1:\n",
    "    wait.until(EC.presence_of_element_located((By.CSS_SELECTOR, f'button[aria-label=\"Go to page {starting_page}\"]')))\n",
    "    goto_page = driver.find_elements(By.CSS_SELECTOR, f'button[aria-label=\"Go to page {starting_page}\"]')\n",
    "    goto_page[0].click()\n",
    "    time.sleep(10)\n",
    "\n",
    "while page_no <= 29:  # noqa: PLR2004\n",
    "    wait.until(EC.presence_of_element_located((By.CSS_SELECTOR, 'a.thumbnail')))\n",
    "    image_elements = driver.find_elements(By.CSS_SELECTOR, 'a.thumbnail')\n",
    "    no_thumbs = len(image_elements)\n",
    "\n",
    "    for idx in range(starting_image, no_thumbs):\n",
    "        try:\n",
    "            popup = False\n",
    "\n",
    "            if EC.staleness_of(image_elements[idx]):\n",
    "                image_elements = driver.find_elements(By.CSS_SELECTOR, 'a.thumbnail')\n",
    "\n",
    "            try:\n",
    "                wait.until(EC.element_to_be_clickable(image_elements[idx]))\n",
    "                image_elements[idx].click()\n",
    "\n",
    "            except ElementClickInterceptedException:\n",
    "                driver.switch_to.default_content()\n",
    "                dialogue = wait.until(EC.presence_of_element_located((By.TAG_NAME, 'prm-brief-result-container')))\n",
    "                dialogue.click()\n",
    "                webdriver.ActionChains(driver).send_keys(Keys.ESCAPE).perform()\n",
    "                image_elements[idx].click()\n",
    "\n",
    "            except:\n",
    "                driver.get(base_url)\n",
    "                time.sleep(10)\n",
    "                image_elements = driver.find_elements(By.CSS_SELECTOR, 'a.thumbnail')\n",
    "                image_elements[idx].click()\n",
    "\n",
    "            try:\n",
    "                test = image_elements[idx].find_elements(By.CSS_SELECTOR, '.nophoto')\n",
    "                has_photo = not len(test)\n",
    "            except:\n",
    "                has_photo = True\n",
    "\n",
    "            wait.until(EC.presence_of_element_located((By.TAG_NAME, 'md-dialog-content')))\n",
    "\n",
    "            detail_rows = driver.find_elements(By.CSS_SELECTOR, '#details div.spaced-rows div[layout=\"row\"')\n",
    "            data = {}\n",
    "            for row in detail_rows:\n",
    "                title = row.find_elements(By.CSS_SELECTOR, 'span[data-details-label]')[0].text\n",
    "                valueList = row.find_elements(By.CSS_SELECTOR, 'div[role=\"listitem\"]')\n",
    "                values = [v.text for v in valueList]\n",
    "                if len(values):\n",
    "                    data[title] = values if len(values) > 1 else values[0]\n",
    "\n",
    "            metadata.append(data)\n",
    "\n",
    "            if has_photo:\n",
    "                link_list = []\n",
    "                target = wait.until(EC.any_of(\n",
    "                    EC.presence_of_element_located((By.ID, 'iframe')),\n",
    "                    EC.presence_of_element_located((By.CSS_SELECTOR, 'md-grid-list a.thumbnail'))\n",
    "                ))\n",
    "\n",
    "                if target.tag_name == 'iframe':\n",
    "                    driver.switch_to.frame('iframe')\n",
    "                    img_count = 1\n",
    "                else:\n",
    "                    popup = True\n",
    "                    images = driver.find_elements(By.CSS_SELECTOR, 'md-grid-list a.thumbnail')\n",
    "\n",
    "                    try:\n",
    "                        wait.until(EC.element_to_be_clickable(images[0]))\n",
    "                        images[0].click()\n",
    "                    except:\n",
    "                        images[1].click()\n",
    "\n",
    "                    wait.until(EC.number_of_windows_to_be(2))\n",
    "\n",
    "                    for window_handle in driver.window_handles:\n",
    "                        if window_handle != original_window:\n",
    "                            driver.switch_to.window(window_handle)\n",
    "                            break\n",
    "\n",
    "                    img_count = int(driver.find_element(By.CSS_SELECTOR, '.imageNav label.label').text[4:6])\n",
    "                    next_button = driver.find_element(By.CSS_SELECTOR, '.imageNav button[aria-label*=\"Next\"]')\n",
    "                    wait.until(EC.frame_to_be_available_and_switch_to_it((By.ID, 'iframe')))\n",
    "\n",
    "\n",
    "                count = 0\n",
    "                while count < img_count:\n",
    "                    count = count + 1\n",
    "                    try:\n",
    "                        try:\n",
    "                            button = wait.until(EC.presence_of_element_located((By.CSS_SELECTOR, '.mirador-icon-download a')))\n",
    "                            button.click()\n",
    "                            wait.until(EC.presence_of_element_located((By.CSS_SELECTOR, 'li[title*=\"Download IIIF\"] a')))\n",
    "                        except:\n",
    "                            wait.until(EC.presence_of_element_located((By.CSS_SELECTOR, 'li[title*=\"Download IIIF\"] a')))\n",
    "\n",
    "                    except Exception as e:\n",
    "                        problems.append(f'Error A: Page {page_no}, image {idx + 1}: {e.msg}\\n{e.stacktrace}')\n",
    "                        print(f'Error: Page {page_no}, image {idx + 1}: {e.msg[0:50]}')\n",
    "\n",
    "                    else:\n",
    "                        manifest = driver.find_elements(By.CSS_SELECTOR, 'li[title*=\"Download IIIF\"] a')\n",
    "                        link_list.append(manifest[0].get_attribute('href'))\n",
    "\n",
    "                    if img_count > 1:\n",
    "                        driver.switch_to.default_content()\n",
    "                        next_button.click()\n",
    "                        time.sleep(5)\n",
    "                        wait.until(EC.frame_to_be_available_and_switch_to_it((By.ID, 'iframe')))\n",
    "\n",
    "                if popup:\n",
    "                    driver.close();\n",
    "                    driver.switch_to.window(original_window)\n",
    "\n",
    "                driver.switch_to.default_content()\n",
    "                dialogue = wait.until(EC.presence_of_element_located((By.TAG_NAME, 'prm-brief-result-container')))\n",
    "                dialogue.click()\n",
    "                webdriver.ActionChains(driver).send_keys(Keys.ESCAPE).perform()\n",
    "\n",
    "                if len(link_list):\n",
    "                    links.append(link_list)\n",
    "\n",
    "            else:\n",
    "                driver.switch_to.default_content()\n",
    "                dialogue = wait.until(EC.presence_of_element_located((By.TAG_NAME, 'prm-brief-result-container')))\n",
    "                dialogue.click()\n",
    "                webdriver.ActionChains(driver).send_keys(Keys.ESCAPE).perform()\n",
    "\n",
    "        except Exception as e:\n",
    "            if len(driver.window_handles) > 1:\n",
    "                for window_handle in driver.window_handles:\n",
    "                    if window_handle != original_window:\n",
    "                        driver.switch_to.window(window_handle)\n",
    "                        driver.close();\n",
    "\n",
    "                driver.switch_to.window(original_window)\n",
    "\n",
    "            driver.switch_to.default_content()\n",
    "            webdriver.ActionChains(driver).send_keys(Keys.ESCAPE).perform()\n",
    "            problems.append(f'Error B: Page {page_no}, image {idx + 1}: {e.msg}\\n{e.stacktrace}')\n",
    "            print(f'Error: Page {page_no}, image {idx + 1}: {e.msg[0:50]}')\n",
    "\n",
    "    print(f'Page {page_no} completed.')\n",
    "\n",
    "    wait.until(EC.presence_of_element_located((By.CSS_SELECTOR, 'button[aria-label=\"Next page\"]')))\n",
    "    next_page = driver.find_elements(By.CSS_SELECTOR, 'button[aria-label=\"Next page\"]')\n",
    "    next_page[0].click()\n",
    "    time.sleep(5)\n",
    "    starting_image = 0 # reset starting image for pages going forwards\n",
    "    page_no = page_no + 1\n"
   ]
  },
  {
   "cell_type": "code",
   "execution_count": null,
   "id": "14da50f1",
   "metadata": {
    "id": "14da50f1"
   },
   "outputs": [],
   "source": [
    "with open('links.json', 'w') as file:\n",
    "    file.write(json.dumps(links))\n",
    "\n",
    "with open('metadata.json', 'w') as file:\n",
    "    file.write(json.dumps(metadata))\n",
    "\n",
    "with open('problems.txt', 'w') as file:\n",
    "    file.write(json.dumps(problems))\n"
   ]
  },
  {
   "cell_type": "code",
   "execution_count": null,
   "id": "88f202a9",
   "metadata": {
    "id": "88f202a9"
   },
   "outputs": [],
   "source": [
    "for p in problems:\n",
    "    print(p)"
   ]
  },
  {
   "cell_type": "code",
   "execution_count": null,
   "id": "1bf240f5",
   "metadata": {
    "id": "1bf240f5"
   },
   "outputs": [],
   "source": [
    "for img, lset in enumerate(links):\n",
    "    for idx, link in enumerate(lset):\n",
    "        img_id = link[link.rfind(':') + 1:]\n",
    "        response = s.get(f'https://ids.lib.harvard.edu/ids/iiif/{img_id}/full/full/0/default.jpg')\n",
    "        with open(f'images/{img}-{idx}-img.jpg', 'wb') as outfile:\n",
    "            outfile.write(response.content)\n"
   ]
  },
  {
   "cell_type": "markdown",
   "id": "5i1htdBGbujz",
   "metadata": {
    "id": "5i1htdBGbujz"
   },
   "source": [
    "## Using LibraryCloud API\n",
    "\n",
    "All of the above can be reduced to the next two code blocks here, which is broken down and explained below. Using a built in library in python, xml, to parse the return of the call from the API (can also get the return in JSON and use that to parse)"
   ]
  },
  {
   "cell_type": "code",
   "execution_count": 2,
   "id": "_r26oOaicXGF",
   "metadata": {
    "id": "_r26oOaicXGF"
   },
   "outputs": [],
   "source": [
    "import requests\n",
    "import time\n",
    "from xml.etree import ElementTree as ET\n",
    "\n",
    "# we need these to parse the XML that is returned by the API\n",
    "namespaces = {\n",
    "    'mods': \"http://www.loc.gov/mods/v3\",\n",
    "    'default': \"http://api.lib.harvard.edu/v2/item\"\n",
    "}"
   ]
  },
  {
   "cell_type": "code",
   "execution_count": 5,
   "id": "qiErm59ub1Pm",
   "metadata": {
    "id": "qiErm59ub1Pm"
   },
   "outputs": [
    {
     "ename": "KeyboardInterrupt",
     "evalue": "",
     "output_type": "error",
     "traceback": [
      "\u001b[0;31m---------------------------------------------------------------------------\u001b[0m",
      "\u001b[0;31mKeyboardInterrupt\u001b[0m                         Traceback (most recent call last)",
      "Cell \u001b[0;32mIn[5], line 12\u001b[0m\n\u001b[1;32m      9\u001b[0m urls \u001b[38;5;241m=\u001b[39m root\u001b[38;5;241m.\u001b[39mfindall(\u001b[38;5;124m'\u001b[39m\u001b[38;5;124m.//mods:url[@displayLabel=\u001b[39m\u001b[38;5;124m\"\u001b[39m\u001b[38;5;124mFull Image\u001b[39m\u001b[38;5;124m\"\u001b[39m\u001b[38;5;124m]\u001b[39m\u001b[38;5;124m'\u001b[39m, namespaces)\n\u001b[1;32m     11\u001b[0m \u001b[38;5;28;01mfor\u001b[39;00m url \u001b[38;5;129;01min\u001b[39;00m urls:\n\u001b[0;32m---> 12\u001b[0m   \u001b[43mtime\u001b[49m\u001b[38;5;241;43m.\u001b[39;49m\u001b[43msleep\u001b[49m\u001b[43m(\u001b[49m\u001b[38;5;241;43m1\u001b[39;49m\u001b[43m)\u001b[49m \u001b[38;5;66;03m# so we don't download too fast\u001b[39;00m\n\u001b[1;32m     13\u001b[0m   img_data \u001b[38;5;241m=\u001b[39m requests\u001b[38;5;241m.\u001b[39mget(url\u001b[38;5;241m.\u001b[39mtext)\u001b[38;5;241m.\u001b[39mcontent\n\u001b[1;32m     14\u001b[0m   \u001b[38;5;66;03m# here we can properly add the .jpg extension for each file\u001b[39;00m\n\u001b[1;32m     15\u001b[0m   \u001b[38;5;66;03m# as we save (we do need to create images directory first)\u001b[39;00m\n",
      "\u001b[0;31mKeyboardInterrupt\u001b[0m: "
     ]
    }
   ],
   "source": [
    "limit = '1' # the number of hits per page to our search, can be up to 250\n",
    "next_cursor = \"*\" # needs to be * to start\n",
    "BASE_URL = f\"https://api.lib.harvard.edu/v2/items?genre=trade+cards&limit={limit}&cursor=\"\n",
    "\n",
    "# keep getting pages while there are more\n",
    "while(next_cursor):\n",
    "  api_call = requests.get(f'{BASE_URL}{next_cursor}').text\n",
    "  root = ET.fromstring(api_call)\n",
    "  urls = root.findall('.//mods:url[@displayLabel=\"Full Image\"]', namespaces)\n",
    "\n",
    "  for url in urls:\n",
    "    time.sleep(1) # so we don't download too fast\n",
    "    img_data = requests.get(url.text).content\n",
    "    # here we can properly add the .jpg extension for each file\n",
    "    # as we save (we do need to create images directory first)\n",
    "    with open(f'../images/{url.text.rsplit(\"/\",1)[-1]}.jpg', 'wb') as f:\n",
    "      f.write(img_data)\n",
    "\n",
    "  next_cursor = root.find('.//default:nextCursor', namespaces).text\n",
    "  \"\"\" can also \"hard code\" it with: root[0][1].text\n",
    "   if there is no next page, this will return None\n",
    "   and the while loop will end \"\"\""
   ]
  },
  {
   "cell_type": "markdown",
   "id": "ErrHoVGnJ0iQ",
   "metadata": {
    "id": "ErrHoVGnJ0iQ"
   },
   "source": [
    "### API step-by-step (for one sample results page only)\n",
    "\n",
    "We can follow the instructions on the [Harvard Library wiki](https://wiki.harvard.edu/confluence/display/LibraryStaffDoc/LibraryCloud+APIs) to form our requests to the LibraryCloud Items API. Since we are not looking at multiple pages, we don't need the cursor argument"
   ]
  },
  {
   "cell_type": "code",
   "execution_count": null,
   "id": "zcAqEEgPvZli",
   "metadata": {
    "id": "zcAqEEgPvZli"
   },
   "outputs": [],
   "source": [
    "limit = '10'\n",
    "BASE_URL = f\"https://api.lib.harvard.edu/v2/items?genre=trade+cards&limit={limit}\"\n",
    "\n",
    "api_call = requests.get(BASE_URL).text"
   ]
  },
  {
   "cell_type": "markdown",
   "id": "kB3rWNCkKMfg",
   "metadata": {
    "id": "kB3rWNCkKMfg"
   },
   "source": [
    "Parse the text from the requests call into an ElementTree, so we can search it to find the URLs we want"
   ]
  },
  {
   "cell_type": "code",
   "execution_count": null,
   "id": "3tK6CuY9xvek",
   "metadata": {
    "id": "3tK6CuY9xvek"
   },
   "outputs": [],
   "source": [
    "root = ET.fromstring(api_call)"
   ]
  },
  {
   "cell_type": "markdown",
   "id": "5OAMTzxcKXBx",
   "metadata": {
    "id": "5OAMTzxcKXBx"
   },
   "source": [
    "We are using an X-path search to find all the URLs with the attribute displayLabel that equals Full Image (this is the way full-sized image URLs are coded in the mods XML we get back from LibraryCloud)"
   ]
  },
  {
   "cell_type": "code",
   "execution_count": null,
   "id": "VSp76cqGIDGt",
   "metadata": {
    "id": "VSp76cqGIDGt"
   },
   "outputs": [],
   "source": [
    "urls = root.findall('.//mods:url[@displayLabel=\"Full Image\"]', namespaces)"
   ]
  },
  {
   "cell_type": "markdown",
   "id": "4enQqEIXKkJ2",
   "metadata": {
    "id": "4enQqEIXKkJ2"
   },
   "source": [
    "We can then use the collected URLs to save each as a jpg file in the images folder."
   ]
  },
  {
   "cell_type": "code",
   "execution_count": null,
   "id": "x6rTTQXRFsGm",
   "metadata": {
    "id": "x6rTTQXRFsGm"
   },
   "outputs": [],
   "source": [
    "for url in urls:\n",
    "  time.sleep(1) # so we don't download too fast\n",
    "  img_data = requests.get(url.text).content\n",
    "  # here we can properly add the .jpg extension for each file\n",
    "  # as we save (we do need to create images directory first)\n",
    "  with open(f'images/{url.text.rsplit(\"/\",1)[-1]}.jpg', 'wb') as f:\n",
    "    f.write(img_data)"
   ]
  },
  {
   "cell_type": "markdown",
   "id": "GZLHh1H7d794",
   "metadata": {
    "id": "GZLHh1H7d794"
   },
   "source": [
    "If we'd rather just collect the links themselves into a list, we could do that and then download them using something like wget. Here is how you would do that."
   ]
  },
  {
   "cell_type": "code",
   "execution_count": null,
   "id": "m7-ySQcLeGIl",
   "metadata": {
    "id": "m7-ySQcLeGIl"
   },
   "outputs": [],
   "source": [
    "links = [url.text for url in urls]\n",
    "\n",
    "out_file = \"\"\n",
    "for link in links:\n",
    "  out_file = out_file + link + '\\n'\n",
    "\n",
    "with open(\"links.txt\", \"w\") as file:\n",
    "  file.write(out_file)"
   ]
  },
  {
   "cell_type": "markdown",
   "id": "wYqfd7CoSm6k",
   "metadata": {
    "id": "wYqfd7CoSm6k"
   },
   "source": [
    "We can now use wget from the command line (! in Google Colab) to download all of the links at once.\n",
    "\n",
    "If you want the names to be the NRS links, like urn-3:HBS.Baker.GEN:10733692, then don't use the --trust-server-names flag. If you want the files to have the digital repository image numbers, then use the flag"
   ]
  },
  {
   "cell_type": "code",
   "execution_count": null,
   "id": "T-smT8ihHTgB",
   "metadata": {
    "colab": {
     "base_uri": "https://localhost:8080/"
    },
    "id": "T-smT8ihHTgB",
    "outputId": "1652e8ce-42fe-45a5-bf33-f65e172cf70a"
   },
   "outputs": [
    {
     "name": "stdout",
     "output_type": "stream",
     "text": [
      "--2024-03-06 17:28:15--  https://nrs.harvard.edu/urn-3:HBS.Baker.GEN:10733688\n",
      "Resolving nrs.harvard.edu (nrs.harvard.edu)... 23.23.150.153, 54.80.243.171, 44.212.254.238\n",
      "Connecting to nrs.harvard.edu (nrs.harvard.edu)|23.23.150.153|:443... connected.\n",
      "HTTP request sent, awaiting response... 303 See Other\n",
      "Location: https://ids.lib.harvard.edu/ids/view/46222229 [following]\n",
      "--2024-03-06 17:28:16--  https://ids.lib.harvard.edu/ids/view/46222229\n",
      "Resolving ids.lib.harvard.edu (ids.lib.harvard.edu)... 44.205.94.22, 52.72.136.172, 44.216.212.189\n",
      "Connecting to ids.lib.harvard.edu (ids.lib.harvard.edu)|44.205.94.22|:443... connected.\n",
      "HTTP request sent, awaiting response... 200 OK\n",
      "Length: unspecified [image/jpeg]\n",
      "Saving to: ‘urn-3:HBS.Baker.GEN:10733688’\n",
      "\n",
      "urn-3:HBS.Baker.GEN     [   <=>              ] 648.38K   713KB/s    in 0.9s    \n",
      "\n",
      "2024-03-06 17:28:18 (713 KB/s) - ‘urn-3:HBS.Baker.GEN:10733688’ saved [663942]\n",
      "\n",
      "--2024-03-06 17:28:18--  https://nrs.harvard.edu/urn-3:HBS.Baker.GEN:10733691\n",
      "Connecting to nrs.harvard.edu (nrs.harvard.edu)|23.23.150.153|:443... connected.\n",
      "HTTP request sent, awaiting response... 303 See Other\n",
      "Location: https://ids.lib.harvard.edu/ids/view/46222232 [following]\n",
      "--2024-03-06 17:28:20--  https://ids.lib.harvard.edu/ids/view/46222232\n",
      "Connecting to ids.lib.harvard.edu (ids.lib.harvard.edu)|44.205.94.22|:443... connected.\n",
      "HTTP request sent, awaiting response... 200 OK\n",
      "Length: unspecified [image/jpeg]\n",
      "Saving to: ‘urn-3:HBS.Baker.GEN:10733691’\n",
      "\n",
      "urn-3:HBS.Baker.GEN     [   <=>              ] 663.01K   730KB/s    in 0.9s    \n",
      "\n",
      "2024-03-06 17:28:22 (730 KB/s) - ‘urn-3:HBS.Baker.GEN:10733691’ saved [678920]\n",
      "\n",
      "--2024-03-06 17:28:22--  https://nrs.harvard.edu/urn-3:HBS.Baker.GEN:10733692\n",
      "Connecting to nrs.harvard.edu (nrs.harvard.edu)|23.23.150.153|:443... connected.\n",
      "HTTP request sent, awaiting response... 303 See Other\n",
      "Location: https://ids.lib.harvard.edu/ids/view/46222233 [following]\n",
      "--2024-03-06 17:28:23--  https://ids.lib.harvard.edu/ids/view/46222233\n",
      "Connecting to ids.lib.harvard.edu (ids.lib.harvard.edu)|44.205.94.22|:443... connected.\n",
      "HTTP request sent, awaiting response... 200 OK\n",
      "Length: unspecified [image/jpeg]\n",
      "Saving to: ‘urn-3:HBS.Baker.GEN:10733692’\n",
      "\n",
      "urn-3:HBS.Baker.GEN     [   <=>              ] 710.36K   782KB/s    in 0.9s    \n",
      "\n",
      "2024-03-06 17:28:25 (782 KB/s) - ‘urn-3:HBS.Baker.GEN:10733692’ saved [727410]\n",
      "\n",
      "--2024-03-06 17:28:25--  https://nrs.harvard.edu/urn-3:HBS.Baker.GEN:10733695\n",
      "Connecting to nrs.harvard.edu (nrs.harvard.edu)|23.23.150.153|:443... connected.\n",
      "HTTP request sent, awaiting response... 303 See Other\n",
      "Location: https://ids.lib.harvard.edu/ids/view/46222236 [following]\n",
      "--2024-03-06 17:28:25--  https://ids.lib.harvard.edu/ids/view/46222236\n",
      "Connecting to ids.lib.harvard.edu (ids.lib.harvard.edu)|44.205.94.22|:443... connected.\n",
      "HTTP request sent, awaiting response... 200 OK\n",
      "Length: unspecified [image/jpeg]\n",
      "Saving to: ‘urn-3:HBS.Baker.GEN:10733695’\n",
      "\n",
      "urn-3:HBS.Baker.GEN     [   <=>              ] 528.92K   582KB/s    in 0.9s    \n",
      "\n",
      "2024-03-06 17:28:27 (582 KB/s) - ‘urn-3:HBS.Baker.GEN:10733695’ saved [541616]\n",
      "\n",
      "--2024-03-06 17:28:27--  https://nrs.harvard.edu/urn-3:HBS.Baker.GEN:10733697\n",
      "Connecting to nrs.harvard.edu (nrs.harvard.edu)|23.23.150.153|:443... connected.\n",
      "HTTP request sent, awaiting response... 303 See Other\n",
      "Location: https://ids.lib.harvard.edu/ids/view/46222238 [following]\n",
      "--2024-03-06 17:28:28--  https://ids.lib.harvard.edu/ids/view/46222238\n",
      "Connecting to ids.lib.harvard.edu (ids.lib.harvard.edu)|44.205.94.22|:443... connected.\n",
      "HTTP request sent, awaiting response... 200 OK\n",
      "Length: unspecified [image/jpeg]\n",
      "Saving to: ‘urn-3:HBS.Baker.GEN:10733697’\n",
      "\n",
      "urn-3:HBS.Baker.GEN     [   <=>              ] 555.80K   613KB/s    in 0.9s    \n",
      "\n",
      "2024-03-06 17:28:30 (613 KB/s) - ‘urn-3:HBS.Baker.GEN:10733697’ saved [569141]\n",
      "\n",
      "--2024-03-06 17:28:30--  https://nrs.harvard.edu/urn-3:HBS.Baker.GEN:10733701\n",
      "Connecting to nrs.harvard.edu (nrs.harvard.edu)|23.23.150.153|:443... connected.\n",
      "HTTP request sent, awaiting response... 303 See Other\n",
      "Location: https://ids.lib.harvard.edu/ids/view/46222242 [following]\n",
      "--2024-03-06 17:28:31--  https://ids.lib.harvard.edu/ids/view/46222242\n",
      "Connecting to ids.lib.harvard.edu (ids.lib.harvard.edu)|44.205.94.22|:443... connected.\n",
      "HTTP request sent, awaiting response... 200 OK\n",
      "Length: unspecified [image/jpeg]\n",
      "Saving to: ‘urn-3:HBS.Baker.GEN:10733701’\n",
      "\n",
      "urn-3:HBS.Baker.GEN     [   <=>              ] 594.68K   655KB/s    in 0.9s    \n",
      "\n",
      "2024-03-06 17:28:33 (655 KB/s) - ‘urn-3:HBS.Baker.GEN:10733701’ saved [608948]\n",
      "\n",
      "--2024-03-06 17:28:33--  https://nrs.harvard.edu/urn-3:HBS.Baker.GEN:10733703\n",
      "Connecting to nrs.harvard.edu (nrs.harvard.edu)|23.23.150.153|:443... connected.\n",
      "HTTP request sent, awaiting response... 303 See Other\n",
      "Location: https://ids.lib.harvard.edu/ids/view/46222244 [following]\n",
      "--2024-03-06 17:28:33--  https://ids.lib.harvard.edu/ids/view/46222244\n",
      "Connecting to ids.lib.harvard.edu (ids.lib.harvard.edu)|44.205.94.22|:443... connected.\n",
      "HTTP request sent, awaiting response... 200 OK\n",
      "Length: unspecified [image/jpeg]\n",
      "Saving to: ‘urn-3:HBS.Baker.GEN:10733703’\n",
      "\n",
      "urn-3:HBS.Baker.GEN     [   <=>              ] 482.17K   532KB/s    in 0.9s    \n",
      "\n",
      "2024-03-06 17:28:35 (532 KB/s) - ‘urn-3:HBS.Baker.GEN:10733703’ saved [493741]\n",
      "\n",
      "--2024-03-06 17:28:35--  https://nrs.harvard.edu/urn-3:HBS.Baker.GEN:10733707\n",
      "Connecting to nrs.harvard.edu (nrs.harvard.edu)|23.23.150.153|:443... connected.\n",
      "HTTP request sent, awaiting response... 303 See Other\n",
      "Location: https://ids.lib.harvard.edu/ids/view/46222248 [following]\n",
      "--2024-03-06 17:28:36--  https://ids.lib.harvard.edu/ids/view/46222248\n",
      "Connecting to ids.lib.harvard.edu (ids.lib.harvard.edu)|44.205.94.22|:443... connected.\n",
      "HTTP request sent, awaiting response... 200 OK\n",
      "Length: unspecified [image/jpeg]\n",
      "Saving to: ‘urn-3:HBS.Baker.GEN:10733707’\n",
      "\n",
      "urn-3:HBS.Baker.GEN     [   <=>              ] 770.09K   847KB/s    in 0.9s    \n",
      "\n",
      "2024-03-06 17:28:38 (847 KB/s) - ‘urn-3:HBS.Baker.GEN:10733707’ saved [788571]\n",
      "\n",
      "--2024-03-06 17:28:38--  https://nrs.harvard.edu/urn-3:HBS.Baker.GEN:10733709\n",
      "Connecting to nrs.harvard.edu (nrs.harvard.edu)|23.23.150.153|:443... connected.\n",
      "HTTP request sent, awaiting response... 303 See Other\n",
      "Location: https://ids.lib.harvard.edu/ids/view/46222250 [following]\n",
      "--2024-03-06 17:28:38--  https://ids.lib.harvard.edu/ids/view/46222250\n",
      "Connecting to ids.lib.harvard.edu (ids.lib.harvard.edu)|44.205.94.22|:443... connected.\n",
      "HTTP request sent, awaiting response... 200 OK\n",
      "Length: unspecified [image/jpeg]\n",
      "Saving to: ‘urn-3:HBS.Baker.GEN:10733709’\n",
      "\n",
      "urn-3:HBS.Baker.GEN     [   <=>              ] 739.72K   814KB/s    in 0.9s    \n",
      "\n",
      "2024-03-06 17:28:40 (814 KB/s) - ‘urn-3:HBS.Baker.GEN:10733709’ saved [757472]\n",
      "\n",
      "--2024-03-06 17:28:40--  https://nrs.harvard.edu/urn-3:HBS.Baker.GEN:10733710\n",
      "Connecting to nrs.harvard.edu (nrs.harvard.edu)|23.23.150.153|:443... connected.\n",
      "HTTP request sent, awaiting response... 303 See Other\n",
      "Location: https://ids.lib.harvard.edu/ids/view/46222251 [following]\n",
      "--2024-03-06 17:28:41--  https://ids.lib.harvard.edu/ids/view/46222251\n",
      "Connecting to ids.lib.harvard.edu (ids.lib.harvard.edu)|44.205.94.22|:443... connected.\n",
      "HTTP request sent, awaiting response... 200 OK\n",
      "Length: unspecified [image/jpeg]\n",
      "Saving to: ‘urn-3:HBS.Baker.GEN:10733710’\n",
      "\n",
      "urn-3:HBS.Baker.GEN     [   <=>              ] 670.11K   737KB/s    in 0.9s    \n",
      "\n",
      "2024-03-06 17:28:43 (737 KB/s) - ‘urn-3:HBS.Baker.GEN:10733710’ saved [686190]\n",
      "\n",
      "FINISHED --2024-03-06 17:28:43--\n",
      "Total wall clock time: 28s\n",
      "Downloaded: 10 files, 6.2M in 9.1s (700 KB/s)\n"
     ]
    }
   ],
   "source": [
    "!wget -i links.txt # --trust-server-names"
   ]
  }
 ],
 "metadata": {
  "colab": {
   "collapsed_sections": [
    "4ISYFkNqbMZY",
    "5i1htdBGbujz"
   ],
   "provenance": []
  },
  "kernelspec": {
   "display_name": "Python 3 (ipykernel)",
   "language": "python",
   "name": "python3"
  },
  "language_info": {
   "codemirror_mode": {
    "name": "ipython",
    "version": 3
   },
   "file_extension": ".py",
   "mimetype": "text/x-python",
   "name": "python",
   "nbconvert_exporter": "python",
   "pygments_lexer": "ipython3",
   "version": "3.9.19"
  }
 },
 "nbformat": 4,
 "nbformat_minor": 5
}
