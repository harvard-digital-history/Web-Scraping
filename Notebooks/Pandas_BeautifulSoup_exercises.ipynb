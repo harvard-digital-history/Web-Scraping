{
  "nbformat": 4,
  "nbformat_minor": 0,
  "metadata": {
    "colab": {
      "provenance": []
    },
    "kernelspec": {
      "name": "python3",
      "display_name": "Python 3"
    },
    "language_info": {
      "name": "python"
    }
  },
  "cells": [
    {
      "cell_type": "markdown",
      "metadata": {
        "id": "nplMBZ2xUYxs"
      },
      "source": [
        "# Exercises\n",
        "\n",
        "Before beginning, import pandas, requests, and Beautiful Soup."
      ]
    },
    {
      "cell_type": "code",
      "metadata": {
        "id": "zUciyZjsUMUJ"
      },
      "source": [
        "import requests\n",
        "import pandas as pd\n",
        "from bs4 import BeautifulSoup"
      ],
      "execution_count": 2,
      "outputs": []
    },
    {
      "cell_type": "markdown",
      "metadata": {
        "id": "CQia-kQTVsKe"
      },
      "source": [
        "# Section 1 - Using Pandas\n"
      ]
    },
    {
      "cell_type": "markdown",
      "metadata": {
        "id": "4Epax7zYXkHP"
      },
      "source": [
        "## 1.1\n",
        "\n",
        "Using pandas, scrape the roster for the University of Alabama's 2023 football team from http://www.cfbstats.com/2023/team/8/roster.html and save it as a data frame."
      ]
    },
    {
      "cell_type": "code",
      "metadata": {
        "id": "xv-O7R3hWtfo"
      },
      "source": [
        "# Your code here"
      ],
      "execution_count": null,
      "outputs": []
    },
    {
      "cell_type": "code",
      "metadata": {
        "id": "djx-pwJwZHGH"
      },
      "source": [
        "# test your code\n",
        "df"
      ],
      "execution_count": null,
      "outputs": []
    },
    {
      "cell_type": "markdown",
      "metadata": {
        "id": "D4T6urotZGj2"
      },
      "source": [
        "## 1.2\n",
        "\n",
        "Using pandas, scrape all three tables from Alabama's main page on that site (http://www.cfbstats.com/2023/team/8/index.html). Save their team schedule as `schedule`."
      ]
    },
    {
      "cell_type": "code",
      "metadata": {
        "id": "QPLWJOz5W_en"
      },
      "source": [
        "# Your code here"
      ],
      "execution_count": null,
      "outputs": []
    },
    {
      "cell_type": "code",
      "metadata": {
        "id": "l8odOoEoWtfp"
      },
      "source": [
        "# test your code\n",
        "schedule"
      ],
      "execution_count": null,
      "outputs": []
    },
    {
      "cell_type": "markdown",
      "metadata": {
        "id": "EBjy2zqngUIV"
      },
      "source": [
        "### 1.2.5\n",
        "The last row isn't actually data, so let's drop it like this:"
      ]
    },
    {
      "cell_type": "code",
      "metadata": {
        "id": "hTBCOybrggzs"
      },
      "source": [
        "schedule = schedule[:-1]\n",
        "schedule"
      ],
      "execution_count": null,
      "outputs": []
    },
    {
      "cell_type": "markdown",
      "metadata": {
        "id": "KBQ7sk2ba2Kw"
      },
      "source": [
        "## 1.3\n",
        "\n",
        "These are the IDs for the teams that Alabama played in 2023 with stats on cfbstats.com:\n",
        "\n",
        "`teams = [419, 77, 670, 254, 30, 253, 27, 646, 149]`\n",
        "\n",
        "Using a `for` loop, save the URLs for those teams' pages to a list called `urls`."
      ]
    },
    {
      "cell_type": "code",
      "metadata": {
        "id": "FAE-IeueWutq"
      },
      "source": [
        "# Your code here"
      ],
      "execution_count": null,
      "outputs": []
    },
    {
      "cell_type": "code",
      "metadata": {
        "id": "EUIdJ4FiWl0y"
      },
      "source": [
        "# test your code\n",
        "urls"
      ],
      "execution_count": null,
      "outputs": []
    },
    {
      "cell_type": "markdown",
      "metadata": {
        "id": "3aF_EYzWc0Zu"
      },
      "source": [
        "## 1.4\n",
        "Using the URLs you've just created:\n",
        "\n",
        "* Scrape the schedules for each of the teams in Alabama's 2020 schedule.\n",
        "* Add a column to each schedule identifying which url it came from.\n",
        "* Drop the final row, which always has junk data\n",
        "* Save it to a list called `schedules`.\n",
        "\n",
        "\n",
        "\n"
      ]
    },
    {
      "cell_type": "code",
      "metadata": {
        "id": "AviZ3ucScuD1"
      },
      "source": [
        "# Your code here"
      ],
      "execution_count": null,
      "outputs": []
    },
    {
      "cell_type": "code",
      "metadata": {
        "id": "IMx52iveWutr"
      },
      "source": [
        "# test your code\n",
        "schedules[0:3]"
      ],
      "execution_count": null,
      "outputs": []
    },
    {
      "cell_type": "markdown",
      "metadata": {
        "id": "SaCCgoBuej8b"
      },
      "source": [
        "## 1.5\n",
        "`schedules` should be a list of pandas data frames.\n",
        "\n",
        "Combine these into a single data frame, `df`."
      ]
    },
    {
      "cell_type": "code",
      "metadata": {
        "id": "0VPVlPo_WuzS"
      },
      "source": [
        "# Your code here"
      ],
      "execution_count": null,
      "outputs": []
    },
    {
      "cell_type": "code",
      "metadata": {
        "id": "14H8f-jNWuzT"
      },
      "source": [
        "# test your code\n",
        "df"
      ],
      "execution_count": null,
      "outputs": []
    },
    {
      "cell_type": "markdown",
      "metadata": {
        "id": "G3pAETpQhF3G"
      },
      "source": [
        "# Section 2 - Using requests and bs4"
      ]
    },
    {
      "cell_type": "markdown",
      "metadata": {
        "id": "72_NOAx-htpy"
      },
      "source": [
        "## 2.1\n",
        "We'll be using http://quotes.toscrape.com/, a cousin of the books page we used in the tutorial.\n",
        "\n",
        "Begin by downloading the HTML for the home page as `page`."
      ]
    },
    {
      "cell_type": "code",
      "metadata": {
        "id": "coFOHkP7Wu2F"
      },
      "source": [
        "# Your code here"
      ],
      "execution_count": null,
      "outputs": []
    },
    {
      "cell_type": "code",
      "metadata": {
        "colab": {
          "base_uri": "https://localhost:8080/",
          "height": 165
        },
        "id": "aNyHEqRSWu2G",
        "outputId": "ab91f832-86c1-4a05-d5ca-8814236a9b9f"
      },
      "source": [
        "# test your code\n",
        "page.text"
      ],
      "execution_count": null,
      "outputs": [
        {
          "output_type": "execute_result",
          "data": {
            "text/plain": [
              "'<!DOCTYPE html>\\n<html lang=\"en\">\\n<head>\\n\\t<meta charset=\"UTF-8\">\\n\\t<title>Quotes to Scrape</title>\\n    <link rel=\"stylesheet\" href=\"/static/bootstrap.min.css\">\\n    <link rel=\"stylesheet\" href=\"/static/main.css\">\\n</head>\\n<body>\\n    <div class=\"container\">\\n        <div class=\"row header-box\">\\n            <div class=\"col-md-8\">\\n                <h1>\\n                    <a href=\"/\" style=\"text-decoration: none\">Quotes to Scrape</a>\\n                </h1>\\n            </div>\\n            <div class=\"col-md-4\">\\n                <p>\\n                \\n                    <a href=\"/login\">Login</a>\\n                \\n                </p>\\n            </div>\\n        </div>\\n    \\n\\n<div class=\"row\">\\n    <div class=\"col-md-8\">\\n\\n    <div class=\"quote\" itemscope itemtype=\"http://schema.org/CreativeWork\">\\n        <span class=\"text\" itemprop=\"text\">“The world as we have created it is a process of our thinking. It cannot be changed without changing our thinking.”</span>\\n        <span>by <small class=\"author\" itemprop=\"author\">Albert Einstein</small>\\n        <a href=\"/author/Albert-Einstein\">(about)</a>\\n        </span>\\n        <div class=\"tags\">\\n            Tags:\\n            <meta class=\"keywords\" itemprop=\"keywords\" content=\"change,deep-thoughts,thinking,world\" /    > \\n            \\n            <a class=\"tag\" href=\"/tag/change/page/1/\">change</a>\\n            \\n            <a class=\"tag\" href=\"/tag/deep-thoughts/page/1/\">deep-thoughts</a>\\n            \\n            <a class=\"tag\" href=\"/tag/thinking/page/1/\">thinking</a>\\n            \\n            <a class=\"tag\" href=\"/tag/world/page/1/\">world</a>\\n            \\n        </div>\\n    </div>\\n\\n    <div class=\"quote\" itemscope itemtype=\"http://schema.org/CreativeWork\">\\n        <span class=\"text\" itemprop=\"text\">“It is our choices, Harry, that show what we truly are, far more than our abilities.”</span>\\n        <span>by <small class=\"author\" itemprop=\"author\">J.K. Rowling</small>\\n        <a href=\"/author/J-K-Rowling\">(about)</a>\\n        </span>\\n        <div class=\"tags\">\\n            Tags:\\n            <meta class=\"keywords\" itemprop=\"keywords\" content=\"abilities,choices\" /    > \\n            \\n            <a class=\"tag\" href=\"/tag/abilities/page/1/\">abilities</a>\\n            \\n            <a class=\"tag\" href=\"/tag/choices/page/1/\">choices</a>\\n            \\n        </div>\\n    </div>\\n\\n    <div class=\"quote\" itemscope itemtype=\"http://schema.org/CreativeWork\">\\n        <span class=\"text\" itemprop=\"text\">“There are only two ways to live your life. One is as though nothing is a miracle. The other is as though everything is a miracle.”</span>\\n        <span>by <small class=\"author\" itemprop=\"author\">Albert Einstein</small>\\n        <a href=\"/author/Albert-Einstein\">(about)</a>\\n        </span>\\n        <div class=\"tags\">\\n            Tags:\\n            <meta class=\"keywords\" itemprop=\"keywords\" content=\"inspirational,life,live,miracle,miracles\" /    > \\n            \\n            <a class=\"tag\" href=\"/tag/inspirational/page/1/\">inspirational</a>\\n            \\n            <a class=\"tag\" href=\"/tag/life/page/1/\">life</a>\\n            \\n            <a class=\"tag\" href=\"/tag/live/page/1/\">live</a>\\n            \\n            <a class=\"tag\" href=\"/tag/miracle/page/1/\">miracle</a>\\n            \\n            <a class=\"tag\" href=\"/tag/miracles/page/1/\">miracles</a>\\n            \\n        </div>\\n    </div>\\n\\n    <div class=\"quote\" itemscope itemtype=\"http://schema.org/CreativeWork\">\\n        <span class=\"text\" itemprop=\"text\">“The person, be it gentleman or lady, who has not pleasure in a good novel, must be intolerably stupid.”</span>\\n        <span>by <small class=\"author\" itemprop=\"author\">Jane Austen</small>\\n        <a href=\"/author/Jane-Austen\">(about)</a>\\n        </span>\\n        <div class=\"tags\">\\n            Tags:\\n            <meta class=\"keywords\" itemprop=\"keywords\" content=\"aliteracy,books,classic,humor\" /    > \\n            \\n            <a class=\"tag\" href=\"/tag/aliteracy/page/1/\">aliteracy</a>\\n            \\n            <a class=\"tag\" href=\"/tag/books/page/1/\">books</a>\\n            \\n            <a class=\"tag\" href=\"/tag/classic/page/1/\">classic</a>\\n            \\n            <a class=\"tag\" href=\"/tag/humor/page/1/\">humor</a>\\n            \\n        </div>\\n    </div>\\n\\n    <div class=\"quote\" itemscope itemtype=\"http://schema.org/CreativeWork\">\\n        <span class=\"text\" itemprop=\"text\">“Imperfection is beauty, madness is genius and it&#39;s better to be absolutely ridiculous than absolutely boring.”</span>\\n        <span>by <small class=\"author\" itemprop=\"author\">Marilyn Monroe</small>\\n        <a href=\"/author/Marilyn-Monroe\">(about)</a>\\n        </span>\\n        <div class=\"tags\">\\n            Tags:\\n            <meta class=\"keywords\" itemprop=\"keywords\" content=\"be-yourself,inspirational\" /    > \\n            \\n            <a class=\"tag\" href=\"/tag/be-yourself/page/1/\">be-yourself</a>\\n            \\n            <a class=\"tag\" href=\"/tag/inspirational/page/1/\">inspirational</a>\\n            \\n        </div>\\n    </div>\\n\\n    <div class=\"quote\" itemscope itemtype=\"http://schema.org/CreativeWork\">\\n        <span class=\"text\" itemprop=\"text\">“Try not to become a man of success. Rather become a man of value.”</span>\\n        <span>by <small class=\"author\" itemprop=\"author\">Albert Einstein</small>\\n        <a href=\"/author/Albert-Einstein\">(about)</a>\\n        </span>\\n        <div class=\"tags\">\\n            Tags:\\n            <meta class=\"keywords\" itemprop=\"keywords\" content=\"adulthood,success,value\" /    > \\n            \\n            <a class=\"tag\" href=\"/tag/adulthood/page/1/\">adulthood</a>\\n            \\n            <a class=\"tag\" href=\"/tag/success/page/1/\">success</a>\\n            \\n            <a class=\"tag\" href=\"/tag/value/page/1/\">value</a>\\n            \\n        </div>\\n    </div>\\n\\n    <div class=\"quote\" itemscope itemtype=\"http://schema.org/CreativeWork\">\\n        <span class=\"text\" itemprop=\"text\">“It is better to be hated for what you are than to be loved for what you are not.”</span>\\n        <span>by <small class=\"author\" itemprop=\"author\">André Gide</small>\\n        <a href=\"/author/Andre-Gide\">(about)</a>\\n        </span>\\n        <div class=\"tags\">\\n            Tags:\\n            <meta class=\"keywords\" itemprop=\"keywords\" content=\"life,love\" /    > \\n            \\n            <a class=\"tag\" href=\"/tag/life/page/1/\">life</a>\\n            \\n            <a class=\"tag\" href=\"/tag/love/page/1/\">love</a>\\n            \\n        </div>\\n    </div>\\n\\n    <div class=\"quote\" itemscope itemtype=\"http://schema.org/CreativeWork\">\\n        <span class=\"text\" itemprop=\"text\">“I have not failed. I&#39;ve just found 10,000 ways that won&#39;t work.”</span>\\n        <span>by <small class=\"author\" itemprop=\"author\">Thomas A. Edison</small>\\n        <a href=\"/author/Thomas-A-Edison\">(about)</a>\\n        </span>\\n        <div class=\"tags\">\\n            Tags:\\n            <meta class=\"keywords\" itemprop=\"keywords\" content=\"edison,failure,inspirational,paraphrased\" /    > \\n            \\n            <a class=\"tag\" href=\"/tag/edison/page/1/\">edison</a>\\n            \\n            <a class=\"tag\" href=\"/tag/failure/page/1/\">failure</a>\\n            \\n            <a class=\"tag\" href=\"/tag/inspirational/page/1/\">inspirational</a>\\n            \\n            <a class=\"tag\" href=\"/tag/paraphrased/page/1/\">paraphrased</a>\\n            \\n        </div>\\n    </div>\\n\\n    <div class=\"quote\" itemscope itemtype=\"http://schema.org/CreativeWork\">\\n        <span class=\"text\" itemprop=\"text\">“A woman is like a tea bag; you never know how strong it is until it&#39;s in hot water.”</span>\\n        <span>by <small class=\"author\" itemprop=\"author\">Eleanor Roosevelt</small>\\n        <a href=\"/author/Eleanor-Roosevelt\">(about)</a>\\n        </span>\\n        <div class=\"tags\">\\n            Tags:\\n            <meta class=\"keywords\" itemprop=\"keywords\" content=\"misattributed-eleanor-roosevelt\" /    > \\n            \\n            <a class=\"tag\" href=\"/tag/misattributed-eleanor-roosevelt/page/1/\">misattributed-eleanor-roosevelt</a>\\n            \\n        </div>\\n    </div>\\n\\n    <div class=\"quote\" itemscope itemtype=\"http://schema.org/CreativeWork\">\\n        <span class=\"text\" itemprop=\"text\">“A day without sunshine is like, you know, night.”</span>\\n        <span>by <small class=\"author\" itemprop=\"author\">Steve Martin</small>\\n        <a href=\"/author/Steve-Martin\">(about)</a>\\n        </span>\\n        <div class=\"tags\">\\n            Tags:\\n            <meta class=\"keywords\" itemprop=\"keywords\" content=\"humor,obvious,simile\" /    > \\n            \\n            <a class=\"tag\" href=\"/tag/humor/page/1/\">humor</a>\\n            \\n            <a class=\"tag\" href=\"/tag/obvious/page/1/\">obvious</a>\\n            \\n            <a class=\"tag\" href=\"/tag/simile/page/1/\">simile</a>\\n            \\n        </div>\\n    </div>\\n\\n    <nav>\\n        <ul class=\"pager\">\\n            \\n            \\n            <li class=\"next\">\\n                <a href=\"/page/2/\">Next <span aria-hidden=\"true\">&rarr;</span></a>\\n            </li>\\n            \\n        </ul>\\n    </nav>\\n    </div>\\n    <div class=\"col-md-4 tags-box\">\\n        \\n            <h2>Top Ten tags</h2>\\n            \\n            <span class=\"tag-item\">\\n            <a class=\"tag\" style=\"font-size: 28px\" href=\"/tag/love/\">love</a>\\n            </span>\\n            \\n            <span class=\"tag-item\">\\n            <a class=\"tag\" style=\"font-size: 26px\" href=\"/tag/inspirational/\">inspirational</a>\\n            </span>\\n            \\n            <span class=\"tag-item\">\\n            <a class=\"tag\" style=\"font-size: 26px\" href=\"/tag/life/\">life</a>\\n            </span>\\n            \\n            <span class=\"tag-item\">\\n            <a class=\"tag\" style=\"font-size: 24px\" href=\"/tag/humor/\">humor</a>\\n            </span>\\n            \\n            <span class=\"tag-item\">\\n            <a class=\"tag\" style=\"font-size: 22px\" href=\"/tag/books/\">books</a>\\n            </span>\\n            \\n            <span class=\"tag-item\">\\n            <a class=\"tag\" style=\"font-size: 14px\" href=\"/tag/reading/\">reading</a>\\n            </span>\\n            \\n            <span class=\"tag-item\">\\n            <a class=\"tag\" style=\"font-size: 10px\" href=\"/tag/friendship/\">friendship</a>\\n            </span>\\n            \\n            <span class=\"tag-item\">\\n            <a class=\"tag\" style=\"font-size: 8px\" href=\"/tag/friends/\">friends</a>\\n            </span>\\n            \\n            <span class=\"tag-item\">\\n            <a class=\"tag\" style=\"font-size: 8px\" href=\"/tag/truth/\">truth</a>\\n            </span>\\n            \\n            <span class=\"tag-item\">\\n            <a class=\"tag\" style=\"font-size: 6px\" href=\"/tag/simile/\">simile</a>\\n            </span>\\n            \\n        \\n    </div>\\n</div>\\n\\n    </div>\\n    <footer class=\"footer\">\\n        <div class=\"container\">\\n            <p class=\"text-muted\">\\n                Quotes by: <a href=\"https://www.goodreads.com/quotes\">GoodReads.com</a>\\n            </p>\\n            <p class=\"copyright\">\\n                Made with <span class=\\'sh-red\\'>❤</span> by <a href=\"https://scrapinghub.com\">Scrapinghub</a>\\n            </p>\\n        </div>\\n    </footer>\\n</body>\\n</html>'"
            ],
            "application/vnd.google.colaboratory.intrinsic+json": {
              "type": "string"
            }
          },
          "metadata": {},
          "execution_count": 14
        }
      ]
    },
    {
      "cell_type": "markdown",
      "metadata": {
        "id": "boHX_wKxihnV"
      },
      "source": [
        "## 2.2\n",
        "\n",
        "Next, parse the page with Beautiful Soup (save the parsed HTML as `soup`, then format and print the first 1000 characters to make sure it looks valid."
      ]
    },
    {
      "cell_type": "code",
      "metadata": {
        "id": "CU6cttR_Wu4k"
      },
      "source": [
        "# Your code here"
      ],
      "execution_count": null,
      "outputs": []
    },
    {
      "cell_type": "code",
      "metadata": {
        "id": "5w-7PrrdWu4k"
      },
      "source": [
        "# test your code"
      ],
      "execution_count": null,
      "outputs": []
    },
    {
      "cell_type": "markdown",
      "metadata": {
        "id": "fyZboH7CjOeL"
      },
      "source": [
        "## 2.3\n",
        "Use your web browser or the text from the previous exercise to identify which elements contain quotes.\n",
        "\n",
        "Save the first quote as `quote`."
      ]
    },
    {
      "cell_type": "code",
      "metadata": {
        "id": "0QMi2CEMWu62"
      },
      "source": [
        "# Your code here"
      ],
      "execution_count": null,
      "outputs": []
    },
    {
      "cell_type": "code",
      "metadata": {
        "colab": {
          "base_uri": "https://localhost:8080/"
        },
        "id": "qGGl8iFgWu63",
        "outputId": "9b358f37-1fb6-4a62-8d77-9aaee4682e47"
      },
      "source": [
        "# test your code\n",
        "quote"
      ],
      "execution_count": null,
      "outputs": [
        {
          "output_type": "execute_result",
          "data": {
            "text/plain": [
              "<div class=\"quote\" itemscope=\"\" itemtype=\"http://schema.org/CreativeWork\">\n",
              "<span class=\"text\" itemprop=\"text\">“The world as we have created it is a process of our thinking. It cannot be changed without changing our thinking.”</span>\n",
              "<span>by <small class=\"author\" itemprop=\"author\">Albert Einstein</small>\n",
              "<a href=\"/author/Albert-Einstein\">(about)</a>\n",
              "</span>\n",
              "<div class=\"tags\">\n",
              "            Tags:\n",
              "            <meta class=\"keywords\" content=\"change,deep-thoughts,thinking,world\" itemprop=\"keywords\"/>\n",
              "<a class=\"tag\" href=\"/tag/change/page/1/\">change</a>\n",
              "<a class=\"tag\" href=\"/tag/deep-thoughts/page/1/\">deep-thoughts</a>\n",
              "<a class=\"tag\" href=\"/tag/thinking/page/1/\">thinking</a>\n",
              "<a class=\"tag\" href=\"/tag/world/page/1/\">world</a>\n",
              "</div>\n",
              "</div>"
            ]
          },
          "metadata": {},
          "execution_count": 17
        }
      ]
    },
    {
      "cell_type": "markdown",
      "metadata": {
        "id": "bF1ijkw-l6vU"
      },
      "source": [
        "## 2.4\n",
        "Save the text of the quote as `text`"
      ]
    },
    {
      "cell_type": "code",
      "metadata": {
        "id": "ryzg3X0hmA9f"
      },
      "source": [
        "# Your code here"
      ],
      "execution_count": null,
      "outputs": []
    },
    {
      "cell_type": "code",
      "metadata": {
        "colab": {
          "base_uri": "https://localhost:8080/",
          "height": 36
        },
        "id": "3Lo9123kmDan",
        "outputId": "bb5ebe14-df0b-4b1a-a521-bb4e35d965cd"
      },
      "source": [
        "# test your code\n",
        "text"
      ],
      "execution_count": null,
      "outputs": [
        {
          "output_type": "execute_result",
          "data": {
            "text/plain": [
              "'“The world as we have created it is a process of our thinking. It cannot be changed without changing our thinking.”'"
            ],
            "application/vnd.google.colaboratory.intrinsic+json": {
              "type": "string"
            }
          },
          "metadata": {},
          "execution_count": 19
        }
      ]
    },
    {
      "cell_type": "markdown",
      "metadata": {
        "id": "wdk_3ipSkObK"
      },
      "source": [
        "## 2.5\n",
        "Next, save the name of the quote's author as `author`."
      ]
    },
    {
      "cell_type": "code",
      "metadata": {
        "id": "UOH3XO36Wu8w"
      },
      "source": [
        "# Your code here"
      ],
      "execution_count": null,
      "outputs": []
    },
    {
      "cell_type": "code",
      "metadata": {
        "colab": {
          "base_uri": "https://localhost:8080/",
          "height": 36
        },
        "id": "c0IZtnEdWu8x",
        "outputId": "f9d9c37c-d177-4ec7-b517-0a448b8c9d84"
      },
      "source": [
        "# test your code\n",
        "author"
      ],
      "execution_count": null,
      "outputs": [
        {
          "output_type": "execute_result",
          "data": {
            "text/plain": [
              "'Albert Einstein'"
            ],
            "application/vnd.google.colaboratory.intrinsic+json": {
              "type": "string"
            }
          },
          "metadata": {},
          "execution_count": 21
        }
      ]
    },
    {
      "cell_type": "markdown",
      "metadata": {
        "id": "lroZdE_ImtCu"
      },
      "source": [
        "## 2.6\n",
        "\n",
        "Extract the keywords from the `<meta>` element (they are separated by commas) and save them as `keywords`."
      ]
    },
    {
      "cell_type": "code",
      "metadata": {
        "id": "9ZKXFQ6ynR_J"
      },
      "source": [
        "# Your code here"
      ],
      "execution_count": null,
      "outputs": []
    },
    {
      "cell_type": "code",
      "metadata": {
        "colab": {
          "base_uri": "https://localhost:8080/",
          "height": 36
        },
        "id": "HnimZT8CnSg3",
        "outputId": "ce44126c-a8ad-455a-d47b-56eb713b3f52"
      },
      "source": [
        "# test your code\n",
        "keywords"
      ],
      "execution_count": null,
      "outputs": [
        {
          "output_type": "execute_result",
          "data": {
            "text/plain": [
              "'change,deep-thoughts,thinking,world'"
            ],
            "application/vnd.google.colaboratory.intrinsic+json": {
              "type": "string"
            }
          },
          "metadata": {},
          "execution_count": 23
        }
      ]
    },
    {
      "cell_type": "markdown",
      "metadata": {
        "id": "vM2R_AS_k63-"
      },
      "source": [
        "## 2.7\n",
        "Extract the link to the author's \"about\" page and save it as `about_url`.\n",
        "\n",
        "This is a relative link, so you will need to add \"http://quotes.toscrape.com\" as a prefix in order for it to be functional."
      ]
    },
    {
      "cell_type": "code",
      "metadata": {
        "id": "xj-ZE-9BWu_G"
      },
      "source": [
        "# Your code here"
      ],
      "execution_count": null,
      "outputs": []
    },
    {
      "cell_type": "code",
      "metadata": {
        "colab": {
          "base_uri": "https://localhost:8080/",
          "height": 36
        },
        "id": "v06vAmGpWu_G",
        "outputId": "8b9fc6aa-c1f8-4bc0-98f5-b3e091d201f7"
      },
      "source": [
        "# test your code\n",
        "about_url"
      ],
      "execution_count": null,
      "outputs": [
        {
          "output_type": "execute_result",
          "data": {
            "text/plain": [
              "'http://quotes.toscrape.com/author/Albert-Einstein'"
            ],
            "application/vnd.google.colaboratory.intrinsic+json": {
              "type": "string"
            }
          },
          "metadata": {},
          "execution_count": 25
        }
      ]
    },
    {
      "cell_type": "markdown",
      "metadata": {
        "id": "ihowpNi-nlkx"
      },
      "source": [
        "## 2.8\n",
        "Using the `about_url`, collect the author's birthday from their about page and save it as `bday`.\n",
        "\n",
        "It is part of a `<span>` with the class `\"author-born-date\"`."
      ]
    },
    {
      "cell_type": "code",
      "metadata": {
        "id": "Kvgnkny-WvBa"
      },
      "source": [
        "# Your code here"
      ],
      "execution_count": null,
      "outputs": []
    },
    {
      "cell_type": "code",
      "metadata": {
        "colab": {
          "base_uri": "https://localhost:8080/",
          "height": 36
        },
        "id": "sfhvit4ZWvBa",
        "outputId": "efd74ac0-ad16-47d5-f26f-1007be8e605b"
      },
      "source": [
        "# test your code\n",
        "bday"
      ],
      "execution_count": null,
      "outputs": [
        {
          "output_type": "execute_result",
          "data": {
            "text/plain": [
              "'March 14, 1879'"
            ],
            "application/vnd.google.colaboratory.intrinsic+json": {
              "type": "string"
            }
          },
          "metadata": {},
          "execution_count": 27
        }
      ]
    },
    {
      "cell_type": "markdown",
      "metadata": {
        "id": "nFDpHDAqo2-I"
      },
      "source": [
        "## 2.9\n",
        "\n",
        "Find the following from every quote on the home page:\n",
        "\n",
        "* Quote text\n",
        "* Author\n",
        "* Keywords\n",
        "* Author's `about_url`\n",
        "* Author's birth date\n",
        "\n",
        "Save them into lists called:\n",
        "* `texts`\n",
        "* `authors`\n",
        "* `keyword_list`\n",
        "* `about_urls`\n",
        "* `bdays`\n",
        "\n"
      ]
    },
    {
      "cell_type": "code",
      "metadata": {
        "id": "GY7V4p1jWvDh"
      },
      "source": [
        "# Your code here"
      ],
      "execution_count": null,
      "outputs": []
    },
    {
      "cell_type": "code",
      "metadata": {
        "colab": {
          "base_uri": "https://localhost:8080/"
        },
        "id": "8tO4Uan9WvDi",
        "outputId": "b6f5cb6e-951a-4073-bce8-c024fef50bd2"
      },
      "source": [
        "# test your code\n",
        "print(texts)\n",
        "print(authors)\n",
        "print(keyword_list)\n",
        "print(about_urls)\n",
        "print(bdays)"
      ],
      "execution_count": null,
      "outputs": [
        {
          "output_type": "stream",
          "name": "stdout",
          "text": [
            "['“The world as we have created it is a process of our thinking. It cannot be changed without changing our thinking.”', '“It is our choices, Harry, that show what we truly are, far more than our abilities.”', '“There are only two ways to live your life. One is as though nothing is a miracle. The other is as though everything is a miracle.”', '“The person, be it gentleman or lady, who has not pleasure in a good novel, must be intolerably stupid.”', \"“Imperfection is beauty, madness is genius and it's better to be absolutely ridiculous than absolutely boring.”\", '“Try not to become a man of success. Rather become a man of value.”', '“It is better to be hated for what you are than to be loved for what you are not.”', \"“I have not failed. I've just found 10,000 ways that won't work.”\", \"“A woman is like a tea bag; you never know how strong it is until it's in hot water.”\", '“A day without sunshine is like, you know, night.”']\n",
            "['Albert Einstein', 'J.K. Rowling', 'Albert Einstein', 'Jane Austen', 'Marilyn Monroe', 'Albert Einstein', 'André Gide', 'Thomas A. Edison', 'Eleanor Roosevelt', 'Steve Martin']\n",
            "['change,deep-thoughts,thinking,world', 'abilities,choices', 'inspirational,life,live,miracle,miracles', 'aliteracy,books,classic,humor', 'be-yourself,inspirational', 'adulthood,success,value', 'life,love', 'edison,failure,inspirational,paraphrased', 'misattributed-eleanor-roosevelt', 'humor,obvious,simile']\n",
            "['http://quotes.toscrape.com/author/Albert-Einstein', 'http://quotes.toscrape.com/author/J-K-Rowling', 'http://quotes.toscrape.com/author/Albert-Einstein', 'http://quotes.toscrape.com/author/Jane-Austen', 'http://quotes.toscrape.com/author/Marilyn-Monroe', 'http://quotes.toscrape.com/author/Albert-Einstein', 'http://quotes.toscrape.com/author/Andre-Gide', 'http://quotes.toscrape.com/author/Thomas-A-Edison', 'http://quotes.toscrape.com/author/Eleanor-Roosevelt', 'http://quotes.toscrape.com/author/Steve-Martin']\n",
            "['March 14, 1879', 'July 31, 1965', 'March 14, 1879', 'December 16, 1775', 'June 01, 1926', 'March 14, 1879', 'November 22, 1869', 'February 11, 1847', 'October 11, 1884', 'August 14, 1945']\n"
          ]
        }
      ]
    },
    {
      "cell_type": "markdown",
      "metadata": {
        "id": "6GTL6_9_rLZM"
      },
      "source": [
        "## 2.10\n",
        "Combine these lists into a pandas data frame called `df` with the following columns:\n",
        "* `text`\n",
        "* `author`\n",
        "* `keywords`\n",
        "* `about_url`\n",
        "* `bday`"
      ]
    },
    {
      "cell_type": "code",
      "metadata": {
        "id": "_yEwP4CMWvFb"
      },
      "source": [
        "# Your code here"
      ],
      "execution_count": null,
      "outputs": []
    },
    {
      "cell_type": "code",
      "metadata": {
        "colab": {
          "base_uri": "https://localhost:8080/",
          "height": 511
        },
        "id": "DBgkoyVOWvFb",
        "outputId": "9c64aa00-640e-43b0-bb40-4e5468a1bad4"
      },
      "source": [
        "# test your code\n",
        "df"
      ],
      "execution_count": null,
      "outputs": [
        {
          "output_type": "execute_result",
          "data": {
            "text/plain": [
              "                                                text             author  \\\n",
              "0  “The world as we have created it is a process ...    Albert Einstein   \n",
              "1  “It is our choices, Harry, that show what we t...       J.K. Rowling   \n",
              "2  “There are only two ways to live your life. On...    Albert Einstein   \n",
              "3  “The person, be it gentleman or lady, who has ...        Jane Austen   \n",
              "4  “Imperfection is beauty, madness is genius and...     Marilyn Monroe   \n",
              "5  “Try not to become a man of success. Rather be...    Albert Einstein   \n",
              "6  “It is better to be hated for what you are tha...         André Gide   \n",
              "7  “I have not failed. I've just found 10,000 way...   Thomas A. Edison   \n",
              "8  “A woman is like a tea bag; you never know how...  Eleanor Roosevelt   \n",
              "9  “A day without sunshine is like, you know, nig...       Steve Martin   \n",
              "\n",
              "                                   keywords  \\\n",
              "0       change,deep-thoughts,thinking,world   \n",
              "1                         abilities,choices   \n",
              "2  inspirational,life,live,miracle,miracles   \n",
              "3             aliteracy,books,classic,humor   \n",
              "4                 be-yourself,inspirational   \n",
              "5                   adulthood,success,value   \n",
              "6                                 life,love   \n",
              "7  edison,failure,inspirational,paraphrased   \n",
              "8           misattributed-eleanor-roosevelt   \n",
              "9                      humor,obvious,simile   \n",
              "\n",
              "                                           about_url               bday  \n",
              "0  http://quotes.toscrape.com/author/Albert-Einstein     March 14, 1879  \n",
              "1      http://quotes.toscrape.com/author/J-K-Rowling      July 31, 1965  \n",
              "2  http://quotes.toscrape.com/author/Albert-Einstein     March 14, 1879  \n",
              "3      http://quotes.toscrape.com/author/Jane-Austen  December 16, 1775  \n",
              "4   http://quotes.toscrape.com/author/Marilyn-Monroe      June 01, 1926  \n",
              "5  http://quotes.toscrape.com/author/Albert-Einstein     March 14, 1879  \n",
              "6       http://quotes.toscrape.com/author/Andre-Gide  November 22, 1869  \n",
              "7  http://quotes.toscrape.com/author/Thomas-A-Edison  February 11, 1847  \n",
              "8  http://quotes.toscrape.com/author/Eleanor-Roos...   October 11, 1884  \n",
              "9     http://quotes.toscrape.com/author/Steve-Martin    August 14, 1945  "
            ],
            "text/html": [
              "\n",
              "  <div id=\"df-d5832577-139b-4f85-b775-a0d5f6921651\">\n",
              "    <div class=\"colab-df-container\">\n",
              "      <div>\n",
              "<style scoped>\n",
              "    .dataframe tbody tr th:only-of-type {\n",
              "        vertical-align: middle;\n",
              "    }\n",
              "\n",
              "    .dataframe tbody tr th {\n",
              "        vertical-align: top;\n",
              "    }\n",
              "\n",
              "    .dataframe thead th {\n",
              "        text-align: right;\n",
              "    }\n",
              "</style>\n",
              "<table border=\"1\" class=\"dataframe\">\n",
              "  <thead>\n",
              "    <tr style=\"text-align: right;\">\n",
              "      <th></th>\n",
              "      <th>text</th>\n",
              "      <th>author</th>\n",
              "      <th>keywords</th>\n",
              "      <th>about_url</th>\n",
              "      <th>bday</th>\n",
              "    </tr>\n",
              "  </thead>\n",
              "  <tbody>\n",
              "    <tr>\n",
              "      <th>0</th>\n",
              "      <td>“The world as we have created it is a process ...</td>\n",
              "      <td>Albert Einstein</td>\n",
              "      <td>change,deep-thoughts,thinking,world</td>\n",
              "      <td>http://quotes.toscrape.com/author/Albert-Einstein</td>\n",
              "      <td>March 14, 1879</td>\n",
              "    </tr>\n",
              "    <tr>\n",
              "      <th>1</th>\n",
              "      <td>“It is our choices, Harry, that show what we t...</td>\n",
              "      <td>J.K. Rowling</td>\n",
              "      <td>abilities,choices</td>\n",
              "      <td>http://quotes.toscrape.com/author/J-K-Rowling</td>\n",
              "      <td>July 31, 1965</td>\n",
              "    </tr>\n",
              "    <tr>\n",
              "      <th>2</th>\n",
              "      <td>“There are only two ways to live your life. On...</td>\n",
              "      <td>Albert Einstein</td>\n",
              "      <td>inspirational,life,live,miracle,miracles</td>\n",
              "      <td>http://quotes.toscrape.com/author/Albert-Einstein</td>\n",
              "      <td>March 14, 1879</td>\n",
              "    </tr>\n",
              "    <tr>\n",
              "      <th>3</th>\n",
              "      <td>“The person, be it gentleman or lady, who has ...</td>\n",
              "      <td>Jane Austen</td>\n",
              "      <td>aliteracy,books,classic,humor</td>\n",
              "      <td>http://quotes.toscrape.com/author/Jane-Austen</td>\n",
              "      <td>December 16, 1775</td>\n",
              "    </tr>\n",
              "    <tr>\n",
              "      <th>4</th>\n",
              "      <td>“Imperfection is beauty, madness is genius and...</td>\n",
              "      <td>Marilyn Monroe</td>\n",
              "      <td>be-yourself,inspirational</td>\n",
              "      <td>http://quotes.toscrape.com/author/Marilyn-Monroe</td>\n",
              "      <td>June 01, 1926</td>\n",
              "    </tr>\n",
              "    <tr>\n",
              "      <th>5</th>\n",
              "      <td>“Try not to become a man of success. Rather be...</td>\n",
              "      <td>Albert Einstein</td>\n",
              "      <td>adulthood,success,value</td>\n",
              "      <td>http://quotes.toscrape.com/author/Albert-Einstein</td>\n",
              "      <td>March 14, 1879</td>\n",
              "    </tr>\n",
              "    <tr>\n",
              "      <th>6</th>\n",
              "      <td>“It is better to be hated for what you are tha...</td>\n",
              "      <td>André Gide</td>\n",
              "      <td>life,love</td>\n",
              "      <td>http://quotes.toscrape.com/author/Andre-Gide</td>\n",
              "      <td>November 22, 1869</td>\n",
              "    </tr>\n",
              "    <tr>\n",
              "      <th>7</th>\n",
              "      <td>“I have not failed. I've just found 10,000 way...</td>\n",
              "      <td>Thomas A. Edison</td>\n",
              "      <td>edison,failure,inspirational,paraphrased</td>\n",
              "      <td>http://quotes.toscrape.com/author/Thomas-A-Edison</td>\n",
              "      <td>February 11, 1847</td>\n",
              "    </tr>\n",
              "    <tr>\n",
              "      <th>8</th>\n",
              "      <td>“A woman is like a tea bag; you never know how...</td>\n",
              "      <td>Eleanor Roosevelt</td>\n",
              "      <td>misattributed-eleanor-roosevelt</td>\n",
              "      <td>http://quotes.toscrape.com/author/Eleanor-Roos...</td>\n",
              "      <td>October 11, 1884</td>\n",
              "    </tr>\n",
              "    <tr>\n",
              "      <th>9</th>\n",
              "      <td>“A day without sunshine is like, you know, nig...</td>\n",
              "      <td>Steve Martin</td>\n",
              "      <td>humor,obvious,simile</td>\n",
              "      <td>http://quotes.toscrape.com/author/Steve-Martin</td>\n",
              "      <td>August 14, 1945</td>\n",
              "    </tr>\n",
              "  </tbody>\n",
              "</table>\n",
              "</div>\n",
              "      <button class=\"colab-df-convert\" onclick=\"convertToInteractive('df-d5832577-139b-4f85-b775-a0d5f6921651')\"\n",
              "              title=\"Convert this dataframe to an interactive table.\"\n",
              "              style=\"display:none;\">\n",
              "        \n",
              "  <svg xmlns=\"http://www.w3.org/2000/svg\" height=\"24px\"viewBox=\"0 0 24 24\"\n",
              "       width=\"24px\">\n",
              "    <path d=\"M0 0h24v24H0V0z\" fill=\"none\"/>\n",
              "    <path d=\"M18.56 5.44l.94 2.06.94-2.06 2.06-.94-2.06-.94-.94-2.06-.94 2.06-2.06.94zm-11 1L8.5 8.5l.94-2.06 2.06-.94-2.06-.94L8.5 2.5l-.94 2.06-2.06.94zm10 10l.94 2.06.94-2.06 2.06-.94-2.06-.94-.94-2.06-.94 2.06-2.06.94z\"/><path d=\"M17.41 7.96l-1.37-1.37c-.4-.4-.92-.59-1.43-.59-.52 0-1.04.2-1.43.59L10.3 9.45l-7.72 7.72c-.78.78-.78 2.05 0 2.83L4 21.41c.39.39.9.59 1.41.59.51 0 1.02-.2 1.41-.59l7.78-7.78 2.81-2.81c.8-.78.8-2.07 0-2.86zM5.41 20L4 18.59l7.72-7.72 1.47 1.35L5.41 20z\"/>\n",
              "  </svg>\n",
              "      </button>\n",
              "      \n",
              "  <style>\n",
              "    .colab-df-container {\n",
              "      display:flex;\n",
              "      flex-wrap:wrap;\n",
              "      gap: 12px;\n",
              "    }\n",
              "\n",
              "    .colab-df-convert {\n",
              "      background-color: #E8F0FE;\n",
              "      border: none;\n",
              "      border-radius: 50%;\n",
              "      cursor: pointer;\n",
              "      display: none;\n",
              "      fill: #1967D2;\n",
              "      height: 32px;\n",
              "      padding: 0 0 0 0;\n",
              "      width: 32px;\n",
              "    }\n",
              "\n",
              "    .colab-df-convert:hover {\n",
              "      background-color: #E2EBFA;\n",
              "      box-shadow: 0px 1px 2px rgba(60, 64, 67, 0.3), 0px 1px 3px 1px rgba(60, 64, 67, 0.15);\n",
              "      fill: #174EA6;\n",
              "    }\n",
              "\n",
              "    [theme=dark] .colab-df-convert {\n",
              "      background-color: #3B4455;\n",
              "      fill: #D2E3FC;\n",
              "    }\n",
              "\n",
              "    [theme=dark] .colab-df-convert:hover {\n",
              "      background-color: #434B5C;\n",
              "      box-shadow: 0px 1px 3px 1px rgba(0, 0, 0, 0.15);\n",
              "      filter: drop-shadow(0px 1px 2px rgba(0, 0, 0, 0.3));\n",
              "      fill: #FFFFFF;\n",
              "    }\n",
              "  </style>\n",
              "\n",
              "      <script>\n",
              "        const buttonEl =\n",
              "          document.querySelector('#df-d5832577-139b-4f85-b775-a0d5f6921651 button.colab-df-convert');\n",
              "        buttonEl.style.display =\n",
              "          google.colab.kernel.accessAllowed ? 'block' : 'none';\n",
              "\n",
              "        async function convertToInteractive(key) {\n",
              "          const element = document.querySelector('#df-d5832577-139b-4f85-b775-a0d5f6921651');\n",
              "          const dataTable =\n",
              "            await google.colab.kernel.invokeFunction('convertToInteractive',\n",
              "                                                     [key], {});\n",
              "          if (!dataTable) return;\n",
              "\n",
              "          const docLinkHtml = 'Like what you see? Visit the ' +\n",
              "            '<a target=\"_blank\" href=https://colab.research.google.com/notebooks/data_table.ipynb>data table notebook</a>'\n",
              "            + ' to learn more about interactive tables.';\n",
              "          element.innerHTML = '';\n",
              "          dataTable['output_type'] = 'display_data';\n",
              "          await google.colab.output.renderOutput(dataTable, element);\n",
              "          const docLink = document.createElement('div');\n",
              "          docLink.innerHTML = docLinkHtml;\n",
              "          element.appendChild(docLink);\n",
              "        }\n",
              "      </script>\n",
              "    </div>\n",
              "  </div>\n",
              "  "
            ]
          },
          "metadata": {},
          "execution_count": 31
        }
      ]
    },
    {
      "cell_type": "markdown",
      "metadata": {
        "id": "ny17strlt3i0"
      },
      "source": [
        "## 2.11\n",
        "Use the code we've written so far to create a function called `my_scraper`.\n",
        "\n",
        "`my_scraper` should accept a parameter called `page_url` and return a data frame like the one from the previous exercise."
      ]
    },
    {
      "cell_type": "code",
      "metadata": {
        "id": "amE2Li3DuJNb"
      },
      "source": [
        "# Your code here"
      ],
      "execution_count": null,
      "outputs": []
    },
    {
      "cell_type": "code",
      "metadata": {
        "colab": {
          "base_uri": "https://localhost:8080/",
          "height": 511
        },
        "id": "NKcGxPRUuJeo",
        "outputId": "4d5a1ece-c37c-4afe-f5db-5a26a261a30d"
      },
      "source": [
        "# test your code\n",
        "df = my_scraper(\"http://quotes.toscrape.com/\")\n",
        "df"
      ],
      "execution_count": null,
      "outputs": [
        {
          "output_type": "execute_result",
          "data": {
            "text/plain": [
              "                                                text             author  \\\n",
              "0  “The world as we have created it is a process ...    Albert Einstein   \n",
              "1  “It is our choices, Harry, that show what we t...       J.K. Rowling   \n",
              "2  “There are only two ways to live your life. On...    Albert Einstein   \n",
              "3  “The person, be it gentleman or lady, who has ...        Jane Austen   \n",
              "4  “Imperfection is beauty, madness is genius and...     Marilyn Monroe   \n",
              "5  “Try not to become a man of success. Rather be...    Albert Einstein   \n",
              "6  “It is better to be hated for what you are tha...         André Gide   \n",
              "7  “I have not failed. I've just found 10,000 way...   Thomas A. Edison   \n",
              "8  “A woman is like a tea bag; you never know how...  Eleanor Roosevelt   \n",
              "9  “A day without sunshine is like, you know, nig...       Steve Martin   \n",
              "\n",
              "                                   keywords  \\\n",
              "0       change,deep-thoughts,thinking,world   \n",
              "1                         abilities,choices   \n",
              "2  inspirational,life,live,miracle,miracles   \n",
              "3             aliteracy,books,classic,humor   \n",
              "4                 be-yourself,inspirational   \n",
              "5                   adulthood,success,value   \n",
              "6                                 life,love   \n",
              "7  edison,failure,inspirational,paraphrased   \n",
              "8           misattributed-eleanor-roosevelt   \n",
              "9                      humor,obvious,simile   \n",
              "\n",
              "                                           about_url               bday  \n",
              "0  http://quotes.toscrape.com/author/Albert-Einstein     March 14, 1879  \n",
              "1      http://quotes.toscrape.com/author/J-K-Rowling      July 31, 1965  \n",
              "2  http://quotes.toscrape.com/author/Albert-Einstein     March 14, 1879  \n",
              "3      http://quotes.toscrape.com/author/Jane-Austen  December 16, 1775  \n",
              "4   http://quotes.toscrape.com/author/Marilyn-Monroe      June 01, 1926  \n",
              "5  http://quotes.toscrape.com/author/Albert-Einstein     March 14, 1879  \n",
              "6       http://quotes.toscrape.com/author/Andre-Gide  November 22, 1869  \n",
              "7  http://quotes.toscrape.com/author/Thomas-A-Edison  February 11, 1847  \n",
              "8  http://quotes.toscrape.com/author/Eleanor-Roos...   October 11, 1884  \n",
              "9     http://quotes.toscrape.com/author/Steve-Martin    August 14, 1945  "
            ],
            "text/html": [
              "\n",
              "  <div id=\"df-e32ebf0f-d099-42ac-8b26-a6c2ddb5e7cd\">\n",
              "    <div class=\"colab-df-container\">\n",
              "      <div>\n",
              "<style scoped>\n",
              "    .dataframe tbody tr th:only-of-type {\n",
              "        vertical-align: middle;\n",
              "    }\n",
              "\n",
              "    .dataframe tbody tr th {\n",
              "        vertical-align: top;\n",
              "    }\n",
              "\n",
              "    .dataframe thead th {\n",
              "        text-align: right;\n",
              "    }\n",
              "</style>\n",
              "<table border=\"1\" class=\"dataframe\">\n",
              "  <thead>\n",
              "    <tr style=\"text-align: right;\">\n",
              "      <th></th>\n",
              "      <th>text</th>\n",
              "      <th>author</th>\n",
              "      <th>keywords</th>\n",
              "      <th>about_url</th>\n",
              "      <th>bday</th>\n",
              "    </tr>\n",
              "  </thead>\n",
              "  <tbody>\n",
              "    <tr>\n",
              "      <th>0</th>\n",
              "      <td>“The world as we have created it is a process ...</td>\n",
              "      <td>Albert Einstein</td>\n",
              "      <td>change,deep-thoughts,thinking,world</td>\n",
              "      <td>http://quotes.toscrape.com/author/Albert-Einstein</td>\n",
              "      <td>March 14, 1879</td>\n",
              "    </tr>\n",
              "    <tr>\n",
              "      <th>1</th>\n",
              "      <td>“It is our choices, Harry, that show what we t...</td>\n",
              "      <td>J.K. Rowling</td>\n",
              "      <td>abilities,choices</td>\n",
              "      <td>http://quotes.toscrape.com/author/J-K-Rowling</td>\n",
              "      <td>July 31, 1965</td>\n",
              "    </tr>\n",
              "    <tr>\n",
              "      <th>2</th>\n",
              "      <td>“There are only two ways to live your life. On...</td>\n",
              "      <td>Albert Einstein</td>\n",
              "      <td>inspirational,life,live,miracle,miracles</td>\n",
              "      <td>http://quotes.toscrape.com/author/Albert-Einstein</td>\n",
              "      <td>March 14, 1879</td>\n",
              "    </tr>\n",
              "    <tr>\n",
              "      <th>3</th>\n",
              "      <td>“The person, be it gentleman or lady, who has ...</td>\n",
              "      <td>Jane Austen</td>\n",
              "      <td>aliteracy,books,classic,humor</td>\n",
              "      <td>http://quotes.toscrape.com/author/Jane-Austen</td>\n",
              "      <td>December 16, 1775</td>\n",
              "    </tr>\n",
              "    <tr>\n",
              "      <th>4</th>\n",
              "      <td>“Imperfection is beauty, madness is genius and...</td>\n",
              "      <td>Marilyn Monroe</td>\n",
              "      <td>be-yourself,inspirational</td>\n",
              "      <td>http://quotes.toscrape.com/author/Marilyn-Monroe</td>\n",
              "      <td>June 01, 1926</td>\n",
              "    </tr>\n",
              "    <tr>\n",
              "      <th>5</th>\n",
              "      <td>“Try not to become a man of success. Rather be...</td>\n",
              "      <td>Albert Einstein</td>\n",
              "      <td>adulthood,success,value</td>\n",
              "      <td>http://quotes.toscrape.com/author/Albert-Einstein</td>\n",
              "      <td>March 14, 1879</td>\n",
              "    </tr>\n",
              "    <tr>\n",
              "      <th>6</th>\n",
              "      <td>“It is better to be hated for what you are tha...</td>\n",
              "      <td>André Gide</td>\n",
              "      <td>life,love</td>\n",
              "      <td>http://quotes.toscrape.com/author/Andre-Gide</td>\n",
              "      <td>November 22, 1869</td>\n",
              "    </tr>\n",
              "    <tr>\n",
              "      <th>7</th>\n",
              "      <td>“I have not failed. I've just found 10,000 way...</td>\n",
              "      <td>Thomas A. Edison</td>\n",
              "      <td>edison,failure,inspirational,paraphrased</td>\n",
              "      <td>http://quotes.toscrape.com/author/Thomas-A-Edison</td>\n",
              "      <td>February 11, 1847</td>\n",
              "    </tr>\n",
              "    <tr>\n",
              "      <th>8</th>\n",
              "      <td>“A woman is like a tea bag; you never know how...</td>\n",
              "      <td>Eleanor Roosevelt</td>\n",
              "      <td>misattributed-eleanor-roosevelt</td>\n",
              "      <td>http://quotes.toscrape.com/author/Eleanor-Roos...</td>\n",
              "      <td>October 11, 1884</td>\n",
              "    </tr>\n",
              "    <tr>\n",
              "      <th>9</th>\n",
              "      <td>“A day without sunshine is like, you know, nig...</td>\n",
              "      <td>Steve Martin</td>\n",
              "      <td>humor,obvious,simile</td>\n",
              "      <td>http://quotes.toscrape.com/author/Steve-Martin</td>\n",
              "      <td>August 14, 1945</td>\n",
              "    </tr>\n",
              "  </tbody>\n",
              "</table>\n",
              "</div>\n",
              "      <button class=\"colab-df-convert\" onclick=\"convertToInteractive('df-e32ebf0f-d099-42ac-8b26-a6c2ddb5e7cd')\"\n",
              "              title=\"Convert this dataframe to an interactive table.\"\n",
              "              style=\"display:none;\">\n",
              "        \n",
              "  <svg xmlns=\"http://www.w3.org/2000/svg\" height=\"24px\"viewBox=\"0 0 24 24\"\n",
              "       width=\"24px\">\n",
              "    <path d=\"M0 0h24v24H0V0z\" fill=\"none\"/>\n",
              "    <path d=\"M18.56 5.44l.94 2.06.94-2.06 2.06-.94-2.06-.94-.94-2.06-.94 2.06-2.06.94zm-11 1L8.5 8.5l.94-2.06 2.06-.94-2.06-.94L8.5 2.5l-.94 2.06-2.06.94zm10 10l.94 2.06.94-2.06 2.06-.94-2.06-.94-.94-2.06-.94 2.06-2.06.94z\"/><path d=\"M17.41 7.96l-1.37-1.37c-.4-.4-.92-.59-1.43-.59-.52 0-1.04.2-1.43.59L10.3 9.45l-7.72 7.72c-.78.78-.78 2.05 0 2.83L4 21.41c.39.39.9.59 1.41.59.51 0 1.02-.2 1.41-.59l7.78-7.78 2.81-2.81c.8-.78.8-2.07 0-2.86zM5.41 20L4 18.59l7.72-7.72 1.47 1.35L5.41 20z\"/>\n",
              "  </svg>\n",
              "      </button>\n",
              "      \n",
              "  <style>\n",
              "    .colab-df-container {\n",
              "      display:flex;\n",
              "      flex-wrap:wrap;\n",
              "      gap: 12px;\n",
              "    }\n",
              "\n",
              "    .colab-df-convert {\n",
              "      background-color: #E8F0FE;\n",
              "      border: none;\n",
              "      border-radius: 50%;\n",
              "      cursor: pointer;\n",
              "      display: none;\n",
              "      fill: #1967D2;\n",
              "      height: 32px;\n",
              "      padding: 0 0 0 0;\n",
              "      width: 32px;\n",
              "    }\n",
              "\n",
              "    .colab-df-convert:hover {\n",
              "      background-color: #E2EBFA;\n",
              "      box-shadow: 0px 1px 2px rgba(60, 64, 67, 0.3), 0px 1px 3px 1px rgba(60, 64, 67, 0.15);\n",
              "      fill: #174EA6;\n",
              "    }\n",
              "\n",
              "    [theme=dark] .colab-df-convert {\n",
              "      background-color: #3B4455;\n",
              "      fill: #D2E3FC;\n",
              "    }\n",
              "\n",
              "    [theme=dark] .colab-df-convert:hover {\n",
              "      background-color: #434B5C;\n",
              "      box-shadow: 0px 1px 3px 1px rgba(0, 0, 0, 0.15);\n",
              "      filter: drop-shadow(0px 1px 2px rgba(0, 0, 0, 0.3));\n",
              "      fill: #FFFFFF;\n",
              "    }\n",
              "  </style>\n",
              "\n",
              "      <script>\n",
              "        const buttonEl =\n",
              "          document.querySelector('#df-e32ebf0f-d099-42ac-8b26-a6c2ddb5e7cd button.colab-df-convert');\n",
              "        buttonEl.style.display =\n",
              "          google.colab.kernel.accessAllowed ? 'block' : 'none';\n",
              "\n",
              "        async function convertToInteractive(key) {\n",
              "          const element = document.querySelector('#df-e32ebf0f-d099-42ac-8b26-a6c2ddb5e7cd');\n",
              "          const dataTable =\n",
              "            await google.colab.kernel.invokeFunction('convertToInteractive',\n",
              "                                                     [key], {});\n",
              "          if (!dataTable) return;\n",
              "\n",
              "          const docLinkHtml = 'Like what you see? Visit the ' +\n",
              "            '<a target=\"_blank\" href=https://colab.research.google.com/notebooks/data_table.ipynb>data table notebook</a>'\n",
              "            + ' to learn more about interactive tables.';\n",
              "          element.innerHTML = '';\n",
              "          dataTable['output_type'] = 'display_data';\n",
              "          await google.colab.output.renderOutput(dataTable, element);\n",
              "          const docLink = document.createElement('div');\n",
              "          docLink.innerHTML = docLinkHtml;\n",
              "          element.appendChild(docLink);\n",
              "        }\n",
              "      </script>\n",
              "    </div>\n",
              "  </div>\n",
              "  "
            ]
          },
          "metadata": {},
          "execution_count": 33
        }
      ]
    },
    {
      "cell_type": "markdown",
      "metadata": {
        "id": "CBo-eqcdsT5w"
      },
      "source": [
        "## 2.12\n",
        "There are 10 pages of quotes, including the homepage. In general, they follow this pattern: \"http://quotes.toscrape.com/page/[X]/\", where [X] is the page number (2-10).\n",
        "\n",
        "Write a loop that will go through each page and scrape the same information as we did on the homepage. Combine all of this information into a single data frame `df`.\n"
      ]
    },
    {
      "cell_type": "code",
      "metadata": {
        "id": "rnAvcQ12WvHh"
      },
      "source": [
        "# Your code here"
      ],
      "execution_count": null,
      "outputs": []
    },
    {
      "cell_type": "code",
      "metadata": {
        "colab": {
          "base_uri": "https://localhost:8080/",
          "height": 624
        },
        "id": "5IngReHpWvHi",
        "outputId": "7045865f-b6e2-40bd-b4b0-aac36eb54bed"
      },
      "source": [
        "# test your code\n",
        "df"
      ],
      "execution_count": null,
      "outputs": [
        {
          "output_type": "execute_result",
          "data": {
            "text/plain": [
              "                                                 text              author  \\\n",
              "0   “The world as we have created it is a process ...     Albert Einstein   \n",
              "1   “It is our choices, Harry, that show what we t...        J.K. Rowling   \n",
              "2   “There are only two ways to live your life. On...     Albert Einstein   \n",
              "3   “The person, be it gentleman or lady, who has ...         Jane Austen   \n",
              "4   “Imperfection is beauty, madness is genius and...      Marilyn Monroe   \n",
              "..                                                ...                 ...   \n",
              "95  “You never really understand a person until yo...          Harper Lee   \n",
              "96  “You have to write the book that wants to be w...   Madeleine L'Engle   \n",
              "97  “Never tell the truth to people who are not wo...          Mark Twain   \n",
              "98        “A person's a person, no matter how small.”           Dr. Seuss   \n",
              "99  “... a mind needs books as a sword needs a whe...  George R.R. Martin   \n",
              "\n",
              "                                             keywords  \\\n",
              "0                 change,deep-thoughts,thinking,world   \n",
              "1                                   abilities,choices   \n",
              "2            inspirational,life,live,miracle,miracles   \n",
              "3                       aliteracy,books,classic,humor   \n",
              "4                           be-yourself,inspirational   \n",
              "..                                                ...   \n",
              "95                                better-life-empathy   \n",
              "96  books,children,difficult,grown-ups,write,write...   \n",
              "97                                              truth   \n",
              "98                                      inspirational   \n",
              "99                                         books,mind   \n",
              "\n",
              "                                            about_url                bday  \n",
              "0   http://quotes.toscrape.com/author/Albert-Einstein      March 14, 1879  \n",
              "1       http://quotes.toscrape.com/author/J-K-Rowling       July 31, 1965  \n",
              "2   http://quotes.toscrape.com/author/Albert-Einstein      March 14, 1879  \n",
              "3       http://quotes.toscrape.com/author/Jane-Austen   December 16, 1775  \n",
              "4    http://quotes.toscrape.com/author/Marilyn-Monroe       June 01, 1926  \n",
              "..                                                ...                 ...  \n",
              "95       http://quotes.toscrape.com/author/Harper-Lee      April 28, 1926  \n",
              "96  http://quotes.toscrape.com/author/Madeleine-LE...   November 29, 1918  \n",
              "97       http://quotes.toscrape.com/author/Mark-Twain   November 30, 1835  \n",
              "98         http://quotes.toscrape.com/author/Dr-Seuss      March 02, 1904  \n",
              "99  http://quotes.toscrape.com/author/George-R-R-M...  September 20, 1948  \n",
              "\n",
              "[100 rows x 5 columns]"
            ],
            "text/html": [
              "\n",
              "  <div id=\"df-374c2891-079e-4840-a76c-41b16fc5d8fe\">\n",
              "    <div class=\"colab-df-container\">\n",
              "      <div>\n",
              "<style scoped>\n",
              "    .dataframe tbody tr th:only-of-type {\n",
              "        vertical-align: middle;\n",
              "    }\n",
              "\n",
              "    .dataframe tbody tr th {\n",
              "        vertical-align: top;\n",
              "    }\n",
              "\n",
              "    .dataframe thead th {\n",
              "        text-align: right;\n",
              "    }\n",
              "</style>\n",
              "<table border=\"1\" class=\"dataframe\">\n",
              "  <thead>\n",
              "    <tr style=\"text-align: right;\">\n",
              "      <th></th>\n",
              "      <th>text</th>\n",
              "      <th>author</th>\n",
              "      <th>keywords</th>\n",
              "      <th>about_url</th>\n",
              "      <th>bday</th>\n",
              "    </tr>\n",
              "  </thead>\n",
              "  <tbody>\n",
              "    <tr>\n",
              "      <th>0</th>\n",
              "      <td>“The world as we have created it is a process ...</td>\n",
              "      <td>Albert Einstein</td>\n",
              "      <td>change,deep-thoughts,thinking,world</td>\n",
              "      <td>http://quotes.toscrape.com/author/Albert-Einstein</td>\n",
              "      <td>March 14, 1879</td>\n",
              "    </tr>\n",
              "    <tr>\n",
              "      <th>1</th>\n",
              "      <td>“It is our choices, Harry, that show what we t...</td>\n",
              "      <td>J.K. Rowling</td>\n",
              "      <td>abilities,choices</td>\n",
              "      <td>http://quotes.toscrape.com/author/J-K-Rowling</td>\n",
              "      <td>July 31, 1965</td>\n",
              "    </tr>\n",
              "    <tr>\n",
              "      <th>2</th>\n",
              "      <td>“There are only two ways to live your life. On...</td>\n",
              "      <td>Albert Einstein</td>\n",
              "      <td>inspirational,life,live,miracle,miracles</td>\n",
              "      <td>http://quotes.toscrape.com/author/Albert-Einstein</td>\n",
              "      <td>March 14, 1879</td>\n",
              "    </tr>\n",
              "    <tr>\n",
              "      <th>3</th>\n",
              "      <td>“The person, be it gentleman or lady, who has ...</td>\n",
              "      <td>Jane Austen</td>\n",
              "      <td>aliteracy,books,classic,humor</td>\n",
              "      <td>http://quotes.toscrape.com/author/Jane-Austen</td>\n",
              "      <td>December 16, 1775</td>\n",
              "    </tr>\n",
              "    <tr>\n",
              "      <th>4</th>\n",
              "      <td>“Imperfection is beauty, madness is genius and...</td>\n",
              "      <td>Marilyn Monroe</td>\n",
              "      <td>be-yourself,inspirational</td>\n",
              "      <td>http://quotes.toscrape.com/author/Marilyn-Monroe</td>\n",
              "      <td>June 01, 1926</td>\n",
              "    </tr>\n",
              "    <tr>\n",
              "      <th>...</th>\n",
              "      <td>...</td>\n",
              "      <td>...</td>\n",
              "      <td>...</td>\n",
              "      <td>...</td>\n",
              "      <td>...</td>\n",
              "    </tr>\n",
              "    <tr>\n",
              "      <th>95</th>\n",
              "      <td>“You never really understand a person until yo...</td>\n",
              "      <td>Harper Lee</td>\n",
              "      <td>better-life-empathy</td>\n",
              "      <td>http://quotes.toscrape.com/author/Harper-Lee</td>\n",
              "      <td>April 28, 1926</td>\n",
              "    </tr>\n",
              "    <tr>\n",
              "      <th>96</th>\n",
              "      <td>“You have to write the book that wants to be w...</td>\n",
              "      <td>Madeleine L'Engle</td>\n",
              "      <td>books,children,difficult,grown-ups,write,write...</td>\n",
              "      <td>http://quotes.toscrape.com/author/Madeleine-LE...</td>\n",
              "      <td>November 29, 1918</td>\n",
              "    </tr>\n",
              "    <tr>\n",
              "      <th>97</th>\n",
              "      <td>“Never tell the truth to people who are not wo...</td>\n",
              "      <td>Mark Twain</td>\n",
              "      <td>truth</td>\n",
              "      <td>http://quotes.toscrape.com/author/Mark-Twain</td>\n",
              "      <td>November 30, 1835</td>\n",
              "    </tr>\n",
              "    <tr>\n",
              "      <th>98</th>\n",
              "      <td>“A person's a person, no matter how small.”</td>\n",
              "      <td>Dr. Seuss</td>\n",
              "      <td>inspirational</td>\n",
              "      <td>http://quotes.toscrape.com/author/Dr-Seuss</td>\n",
              "      <td>March 02, 1904</td>\n",
              "    </tr>\n",
              "    <tr>\n",
              "      <th>99</th>\n",
              "      <td>“... a mind needs books as a sword needs a whe...</td>\n",
              "      <td>George R.R. Martin</td>\n",
              "      <td>books,mind</td>\n",
              "      <td>http://quotes.toscrape.com/author/George-R-R-M...</td>\n",
              "      <td>September 20, 1948</td>\n",
              "    </tr>\n",
              "  </tbody>\n",
              "</table>\n",
              "<p>100 rows × 5 columns</p>\n",
              "</div>\n",
              "      <button class=\"colab-df-convert\" onclick=\"convertToInteractive('df-374c2891-079e-4840-a76c-41b16fc5d8fe')\"\n",
              "              title=\"Convert this dataframe to an interactive table.\"\n",
              "              style=\"display:none;\">\n",
              "        \n",
              "  <svg xmlns=\"http://www.w3.org/2000/svg\" height=\"24px\"viewBox=\"0 0 24 24\"\n",
              "       width=\"24px\">\n",
              "    <path d=\"M0 0h24v24H0V0z\" fill=\"none\"/>\n",
              "    <path d=\"M18.56 5.44l.94 2.06.94-2.06 2.06-.94-2.06-.94-.94-2.06-.94 2.06-2.06.94zm-11 1L8.5 8.5l.94-2.06 2.06-.94-2.06-.94L8.5 2.5l-.94 2.06-2.06.94zm10 10l.94 2.06.94-2.06 2.06-.94-2.06-.94-.94-2.06-.94 2.06-2.06.94z\"/><path d=\"M17.41 7.96l-1.37-1.37c-.4-.4-.92-.59-1.43-.59-.52 0-1.04.2-1.43.59L10.3 9.45l-7.72 7.72c-.78.78-.78 2.05 0 2.83L4 21.41c.39.39.9.59 1.41.59.51 0 1.02-.2 1.41-.59l7.78-7.78 2.81-2.81c.8-.78.8-2.07 0-2.86zM5.41 20L4 18.59l7.72-7.72 1.47 1.35L5.41 20z\"/>\n",
              "  </svg>\n",
              "      </button>\n",
              "      \n",
              "  <style>\n",
              "    .colab-df-container {\n",
              "      display:flex;\n",
              "      flex-wrap:wrap;\n",
              "      gap: 12px;\n",
              "    }\n",
              "\n",
              "    .colab-df-convert {\n",
              "      background-color: #E8F0FE;\n",
              "      border: none;\n",
              "      border-radius: 50%;\n",
              "      cursor: pointer;\n",
              "      display: none;\n",
              "      fill: #1967D2;\n",
              "      height: 32px;\n",
              "      padding: 0 0 0 0;\n",
              "      width: 32px;\n",
              "    }\n",
              "\n",
              "    .colab-df-convert:hover {\n",
              "      background-color: #E2EBFA;\n",
              "      box-shadow: 0px 1px 2px rgba(60, 64, 67, 0.3), 0px 1px 3px 1px rgba(60, 64, 67, 0.15);\n",
              "      fill: #174EA6;\n",
              "    }\n",
              "\n",
              "    [theme=dark] .colab-df-convert {\n",
              "      background-color: #3B4455;\n",
              "      fill: #D2E3FC;\n",
              "    }\n",
              "\n",
              "    [theme=dark] .colab-df-convert:hover {\n",
              "      background-color: #434B5C;\n",
              "      box-shadow: 0px 1px 3px 1px rgba(0, 0, 0, 0.15);\n",
              "      filter: drop-shadow(0px 1px 2px rgba(0, 0, 0, 0.3));\n",
              "      fill: #FFFFFF;\n",
              "    }\n",
              "  </style>\n",
              "\n",
              "      <script>\n",
              "        const buttonEl =\n",
              "          document.querySelector('#df-374c2891-079e-4840-a76c-41b16fc5d8fe button.colab-df-convert');\n",
              "        buttonEl.style.display =\n",
              "          google.colab.kernel.accessAllowed ? 'block' : 'none';\n",
              "\n",
              "        async function convertToInteractive(key) {\n",
              "          const element = document.querySelector('#df-374c2891-079e-4840-a76c-41b16fc5d8fe');\n",
              "          const dataTable =\n",
              "            await google.colab.kernel.invokeFunction('convertToInteractive',\n",
              "                                                     [key], {});\n",
              "          if (!dataTable) return;\n",
              "\n",
              "          const docLinkHtml = 'Like what you see? Visit the ' +\n",
              "            '<a target=\"_blank\" href=https://colab.research.google.com/notebooks/data_table.ipynb>data table notebook</a>'\n",
              "            + ' to learn more about interactive tables.';\n",
              "          element.innerHTML = '';\n",
              "          dataTable['output_type'] = 'display_data';\n",
              "          await google.colab.output.renderOutput(dataTable, element);\n",
              "          const docLink = document.createElement('div');\n",
              "          docLink.innerHTML = docLinkHtml;\n",
              "          element.appendChild(docLink);\n",
              "        }\n",
              "      </script>\n",
              "    </div>\n",
              "  </div>\n",
              "  "
            ]
          },
          "metadata": {},
          "execution_count": 35
        }
      ]
    },
    {
      "cell_type": "code",
      "source": [],
      "metadata": {
        "id": "NVlaLohU4qIQ"
      },
      "execution_count": null,
      "outputs": []
    }
  ]
}